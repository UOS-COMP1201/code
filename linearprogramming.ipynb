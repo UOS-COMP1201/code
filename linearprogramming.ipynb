{
  "cells": [
    {
      "attachments": {},
      "cell_type": "markdown",
      "metadata": {},
      "source": [
        "<a href=\"https://colab.research.google.com/github/UOS-COMP1201/code/blob/main/linearprogramming.ipynb\" target=\"_parent\"><img src=\"https://colab.research.google.com/assets/colab-badge.svg\" alt=\"Open In Colab\"/></a>"
      ]
    },
    {
      "cell_type": "code",
      "execution_count": 1,
      "metadata": {
        "id": "-ui9nDmOIY3R"
      },
      "outputs": [],
      "source": [
        "\n",
        "import numpy as np\n",
        "from scipy.optimize import linprog\n",
        "import matplotlib.pyplot as plt\n"
      ]
    },
    {
      "cell_type": "code",
      "execution_count": 2,
      "metadata": {},
      "outputs": [],
      "source": [
        "try:\n",
        "    from gilp.simplex import LP\n",
        "except:\n",
        "    !pip install gilp >/dev/null 2>&1\n",
        "    from gilp.simplex import LP\n",
        "from gilp.visualize import simplex_visual"
      ]
    },
    {
      "attachments": {},
      "cell_type": "markdown",
      "metadata": {
        "id": "mgC3dn9xNC01"
      },
      "source": [
        "First example (i.e., \"EX1\")\n",
        "maximize $5x_1+3x_2$ subject to\n",
        "\n",
        "$$ \\begin{align*}\n",
        "    2x_1+x_2\\le 20\\\\\n",
        "    x_1+x_2\\le 16\\\\\n",
        "    3x_1+2x_2\\le 35\n",
        "\\end{align*}\n",
        " $$\n",
        "\n",
        "Second example (i.e., \"EX2\" it is unbounded)\n",
        "maximize $2x_1+x_2$ subject to\n",
        "\n",
        "$$\n",
        "\\begin{align*}\n",
        "x_1-x_2\\le 10\\\\\n",
        "2x_1-x_2\\le 40\\\\\n",
        "\\end{align*}\n",
        "$$\n",
        "\n",
        "\n",
        "Third example (i.e., \"EX3\")\n",
        "maximize $x_1+x_2$ subject to\n",
        "\n",
        "$$\n",
        "\\begin{align*}\n",
        "x_1-3x_2\\le 4\\\\\n",
        "2x_1+3x_2\\le 17\\\\\n",
        "\\end{align*}\n",
        "$$"
      ]
    },
    {
      "cell_type": "code",
      "execution_count": 3,
      "metadata": {
        "id": "PFte-inz2HXC"
      },
      "outputs": [],
      "source": [
        "choice=\"EX3\""
      ]
    },
    {
      "cell_type": "code",
      "execution_count": 4,
      "metadata": {
        "id": "y-UDoY_OLer6"
      },
      "outputs": [],
      "source": [
        "if choice==\"EX1\":\n",
        "  c=np.array([5,3])\n",
        "  A=np.array([[2,1],[1,1],[3,2]])\n",
        "  b=np.array([20,16,35])\n",
        "  x1_bounds=(0,None)\n",
        "  x2_bounds=(0,None)\n",
        "elif choice==\"EX2\":\n",
        "  c=np.array([2,1])\n",
        "  A=np.array([[1,-1],[2,-1]])\n",
        "  b=np.array([10,40])\n",
        "  x1_bounds=(0,None)\n",
        "  x2_bounds=(0,None)\n",
        "else:\n",
        "  c=np.array([1,1])\n",
        "  A=np.array([[1,-3],[2,3]])\n",
        "  b=np.array([4,17])\n",
        "  x1_bounds=(0,None)\n",
        "  x2_bounds=(0,None)"
      ]
    },
    {
      "attachments": {},
      "cell_type": "markdown",
      "metadata": {
        "id": "ZIsx9gV2STAh"
      },
      "source": [
        "GILP chokes on unbounded problems. Did not take the time to investigate so i skipped EX2 and plot the region at the end of the notebook using matplotlib"
      ]
    },
    {
      "cell_type": "code",
      "execution_count": 5,
      "metadata": {
        "id": "WfcrOa9qNS7l"
      },
      "outputs": [
        {
          "data": {
            "application/vnd.plotly.v1+json": {
              "config": {
                "displayModeBar": false,
                "doubleClick": false,
                "editable": false,
                "plotlyServerURL": "https://plot.ly",
                "responsive": false,
                "showAxisDragHandles": false,
                "showAxisRangeEntryBoxes": false
              },
              "data": [
                {
                  "type": "scatter",
                  "visible": false,
                  "x": [
                    9.1
                  ],
                  "y": [
                    7.366666666667101
                  ]
                },
                {
                  "fill": "toself",
                  "fillcolor": "#1565c0",
                  "line": {
                    "color": "#003c8f",
                    "width": 3
                  },
                  "mode": "lines",
                  "opacity": 0.2,
                  "type": "scatter",
                  "x": [
                    0,
                    4,
                    7,
                    0,
                    0
                  ],
                  "y": [
                    0,
                    0,
                    1,
                    5.666666666667,
                    0
                  ]
                },
                {
                  "hoverinfo": "text",
                  "hoverlabel": {
                    "align": "left",
                    "bgcolor": "#ffffff",
                    "bordercolor": "#404040",
                    "font": {
                      "color": "#404040",
                      "family": "Arial"
                    }
                  },
                  "marker": {
                    "color": "gray",
                    "opacity": 1e-7,
                    "size": 20
                  },
                  "text": [
                    "<b>BFS</b>: (0, 5.667, 21, -0)<br><b>B</b>: (2, 3, 4)<br><b>Obj</b>: 5.667",
                    "<b>BFS</b>: (0, 0, 4, 17)<br><b>B</b>: (3, 4)<br><b>Obj</b>: 0",
                    "<b>BFS</b>: (7, 1, 0, 0)<br><b>B</b>: (1, 2)<br><b>Obj</b>: 8",
                    "<b>BFS</b>: (4, -0, 0, 9)<br><b>B</b>: (1, 4)<br><b>Obj</b>: 4"
                  ],
                  "type": "scatter",
                  "x": [
                    0,
                    0,
                    7,
                    4
                  ],
                  "y": [
                    5.666666666667,
                    0,
                    1,
                    0
                  ]
                },
                {
                  "line": {
                    "dash": "12,3",
                    "width": 3
                  },
                  "mode": "lines",
                  "name": "(3) 1x<sub>1</sub> - 3x<sub>2</sub> ≤ 4",
                  "showlegend": true,
                  "type": "scatter",
                  "x": [
                    0,
                    9.1
                  ],
                  "y": [
                    -1.3333333333333333,
                    1.7
                  ]
                },
                {
                  "line": {
                    "dash": "12,3",
                    "width": 3
                  },
                  "mode": "lines",
                  "name": "(4) 2x<sub>1</sub> + 3x<sub>2</sub> ≤ 17",
                  "showlegend": true,
                  "type": "scatter",
                  "x": [
                    0,
                    9.1
                  ],
                  "y": [
                    5.666666666666667,
                    -0.39999999999999974
                  ]
                },
                {
                  "line": {
                    "color": "#d50000",
                    "width": 4
                  },
                  "mode": "lines",
                  "type": "scatter",
                  "visible": false,
                  "x": [
                    0,
                    9.1
                  ],
                  "y": [
                    0,
                    -9.1
                  ]
                },
                {
                  "line": {
                    "color": "#d50000",
                    "width": 4
                  },
                  "mode": "lines",
                  "type": "scatter",
                  "visible": false,
                  "x": [
                    0,
                    9.1
                  ],
                  "y": [
                    0.69,
                    -8.41
                  ]
                },
                {
                  "line": {
                    "color": "#d50000",
                    "width": 4
                  },
                  "mode": "lines",
                  "type": "scatter",
                  "visible": false,
                  "x": [
                    0,
                    9.1
                  ],
                  "y": [
                    1.37,
                    -7.7299999999999995
                  ]
                },
                {
                  "line": {
                    "color": "#d50000",
                    "width": 4
                  },
                  "mode": "lines",
                  "type": "scatter",
                  "visible": false,
                  "x": [
                    0,
                    9.1
                  ],
                  "y": [
                    2.06,
                    -7.039999999999999
                  ]
                },
                {
                  "line": {
                    "color": "#d50000",
                    "width": 4
                  },
                  "mode": "lines",
                  "type": "scatter",
                  "visible": false,
                  "x": [
                    0,
                    9.1
                  ],
                  "y": [
                    2.74,
                    -6.359999999999999
                  ]
                },
                {
                  "line": {
                    "color": "#d50000",
                    "width": 4
                  },
                  "mode": "lines",
                  "type": "scatter",
                  "visible": false,
                  "x": [
                    0,
                    9.1
                  ],
                  "y": [
                    3.43,
                    -5.67
                  ]
                },
                {
                  "line": {
                    "color": "#d50000",
                    "width": 4
                  },
                  "mode": "lines",
                  "type": "scatter",
                  "visible": false,
                  "x": [
                    0,
                    9.1
                  ],
                  "y": [
                    4.12,
                    -4.9799999999999995
                  ]
                },
                {
                  "line": {
                    "color": "#d50000",
                    "width": 4
                  },
                  "mode": "lines",
                  "type": "scatter",
                  "visible": false,
                  "x": [
                    0,
                    9.1
                  ],
                  "y": [
                    4.8,
                    -4.3
                  ]
                },
                {
                  "line": {
                    "color": "#d50000",
                    "width": 4
                  },
                  "mode": "lines",
                  "type": "scatter",
                  "visible": false,
                  "x": [
                    0,
                    9.1
                  ],
                  "y": [
                    5.49,
                    -3.6099999999999994
                  ]
                },
                {
                  "line": {
                    "color": "#d50000",
                    "width": 4
                  },
                  "mode": "lines",
                  "type": "scatter",
                  "visible": false,
                  "x": [
                    0,
                    9.1
                  ],
                  "y": [
                    6.18,
                    -2.92
                  ]
                },
                {
                  "line": {
                    "color": "#d50000",
                    "width": 4
                  },
                  "mode": "lines",
                  "type": "scatter",
                  "visible": false,
                  "x": [
                    0,
                    9.1
                  ],
                  "y": [
                    6.86,
                    -2.2399999999999993
                  ]
                },
                {
                  "line": {
                    "color": "#d50000",
                    "width": 4
                  },
                  "mode": "lines",
                  "type": "scatter",
                  "visible": false,
                  "x": [
                    0,
                    9.1
                  ],
                  "y": [
                    7.55,
                    -1.5499999999999998
                  ]
                },
                {
                  "line": {
                    "color": "#d50000",
                    "width": 4
                  },
                  "mode": "lines",
                  "type": "scatter",
                  "visible": false,
                  "x": [
                    0,
                    9.1
                  ],
                  "y": [
                    8,
                    -1.0999999999999996
                  ]
                },
                {
                  "line": {
                    "color": "#d50000",
                    "width": 4
                  },
                  "mode": "lines",
                  "type": "scatter",
                  "visible": false,
                  "x": [
                    0,
                    9.1
                  ],
                  "y": [
                    8.23,
                    -0.8699999999999992
                  ]
                },
                {
                  "line": {
                    "color": "#d50000",
                    "width": 4
                  },
                  "mode": "lines",
                  "type": "scatter",
                  "visible": false,
                  "x": [
                    0,
                    9.1
                  ],
                  "y": [
                    8.92,
                    -0.17999999999999972
                  ]
                },
                {
                  "line": {
                    "color": "#d50000",
                    "width": 4
                  },
                  "mode": "lines",
                  "type": "scatter",
                  "visible": false,
                  "x": [
                    0,
                    9.1
                  ],
                  "y": [
                    9.61,
                    0.5099999999999998
                  ]
                },
                {
                  "line": {
                    "color": "#d50000",
                    "width": 4
                  },
                  "mode": "lines",
                  "type": "scatter",
                  "visible": false,
                  "x": [
                    0,
                    9.1
                  ],
                  "y": [
                    10.29,
                    1.1899999999999995
                  ]
                },
                {
                  "line": {
                    "color": "#d50000",
                    "width": 4
                  },
                  "mode": "lines",
                  "type": "scatter",
                  "visible": false,
                  "x": [
                    0,
                    9.1
                  ],
                  "y": [
                    10.98,
                    1.8800000000000008
                  ]
                },
                {
                  "line": {
                    "color": "#d50000",
                    "width": 4
                  },
                  "mode": "lines",
                  "type": "scatter",
                  "visible": false,
                  "x": [
                    0,
                    9.1
                  ],
                  "y": [
                    11.66,
                    2.5600000000000005
                  ]
                },
                {
                  "line": {
                    "color": "#d50000",
                    "width": 4
                  },
                  "mode": "lines",
                  "type": "scatter",
                  "visible": false,
                  "x": [
                    0,
                    9.1
                  ],
                  "y": [
                    12.35,
                    3.25
                  ]
                },
                {
                  "line": {
                    "color": "#d50000",
                    "width": 4
                  },
                  "mode": "lines",
                  "type": "scatter",
                  "visible": false,
                  "x": [
                    0,
                    9.1
                  ],
                  "y": [
                    13.04,
                    3.9399999999999995
                  ]
                },
                {
                  "line": {
                    "color": "#d50000",
                    "width": 4
                  },
                  "mode": "lines",
                  "type": "scatter",
                  "visible": false,
                  "x": [
                    0,
                    9.1
                  ],
                  "y": [
                    13.72,
                    4.620000000000001
                  ]
                },
                {
                  "line": {
                    "color": "#d50000",
                    "width": 4
                  },
                  "mode": "lines",
                  "type": "scatter",
                  "visible": false,
                  "x": [
                    0,
                    9.1
                  ],
                  "y": [
                    14.41,
                    5.3100000000000005
                  ]
                },
                {
                  "line": {
                    "color": "#d50000",
                    "width": 4
                  },
                  "mode": "lines",
                  "type": "scatter",
                  "visible": false,
                  "x": [
                    0,
                    9.1
                  ],
                  "y": [
                    15.09,
                    5.99
                  ]
                },
                {
                  "line": {
                    "color": "#d50000",
                    "width": 4
                  },
                  "mode": "lines",
                  "type": "scatter",
                  "visible": false,
                  "x": [
                    0,
                    9.1
                  ],
                  "y": [
                    15.78,
                    6.68
                  ]
                },
                {
                  "line": {
                    "color": "#d50000",
                    "width": 4
                  },
                  "mode": "lines",
                  "type": "scatter",
                  "visible": false,
                  "x": [
                    0,
                    9.1
                  ],
                  "y": [
                    16.47,
                    7.369999999999999
                  ]
                },
                {
                  "cells": {
                    "align": [
                      "left",
                      "right",
                      "left"
                    ],
                    "font": {
                      "size": 14
                    },
                    "height": 25,
                    "line": {
                      "color": "#ffffff",
                      "width": 1
                    },
                    "values": [
                      [
                        "max<br>s.t.<br> "
                      ],
                      [
                        "z<br>x<sub>3</sub><br>x<sub>4</sub>"
                      ],
                      [
                        "= 0 + 1x<sub>1</sub> + 1x<sub>2</sub><br>= 4 - 1x<sub>1</sub> + 3x<sub>2</sub><br>= 17 - 2x<sub>1</sub> - 3x<sub>2</sub>"
                      ]
                    ]
                  },
                  "columnwidth": [
                    0.13333333333333333,
                    0.06666666666666667,
                    0.8
                  ],
                  "domain": {
                    "x": [
                      0.6052631578947368,
                      1
                    ],
                    "y": [
                      0,
                      1
                    ]
                  },
                  "header": {
                    "align": [
                      "left",
                      "right",
                      "left"
                    ],
                    "font": {
                      "size": 14
                    },
                    "height": 25,
                    "line": {
                      "color": "#ffffff",
                      "width": 1
                    },
                    "values": [
                      "<b>(0)</b>",
                      " ",
                      " "
                    ]
                  },
                  "type": "table",
                  "visible": true
                },
                {
                  "line": {
                    "color": "#d50000",
                    "width": 10
                  },
                  "mode": "lines",
                  "type": "scatter",
                  "visible": false,
                  "x": [
                    0,
                    2
                  ],
                  "y": [
                    0,
                    0
                  ]
                },
                {
                  "line": {
                    "color": "#d50000",
                    "width": 10
                  },
                  "mode": "lines",
                  "type": "scatter",
                  "visible": false,
                  "x": [
                    0,
                    4
                  ],
                  "y": [
                    0,
                    0
                  ]
                },
                {
                  "cells": {
                    "align": [
                      "left",
                      "right",
                      "left"
                    ],
                    "font": {
                      "size": 14
                    },
                    "height": 25,
                    "line": {
                      "color": "#ffffff",
                      "width": 1
                    },
                    "values": [
                      [
                        "max<br>s.t.<br> ",
                        "<b>(0)</b>",
                        "max<br>s.t.<br> "
                      ],
                      [
                        "z<br>x<sub>1</sub><br>x<sub>4</sub>",
                        " ",
                        "z<br>x<sub>3</sub><br>x<sub>4</sub>"
                      ],
                      [
                        "= 4 + 4x<sub>2</sub> - 1x<sub>3</sub><br>= 4 + 3x<sub>2</sub> - 1x<sub>3</sub><br>= 9 - 9x<sub>2</sub> + 2x<sub>3</sub>",
                        " ",
                        "= 0 + 1x<sub>1</sub> + 1x<sub>2</sub><br>= 4 - 1x<sub>1</sub> + 3x<sub>2</sub><br>= 17 - 2x<sub>1</sub> - 3x<sub>2</sub>"
                      ]
                    ]
                  },
                  "columnwidth": [
                    0.13333333333333333,
                    0.06666666666666667,
                    0.8
                  ],
                  "domain": {
                    "x": [
                      0.6052631578947368,
                      1
                    ],
                    "y": [
                      0,
                      1
                    ]
                  },
                  "header": {
                    "align": [
                      "left",
                      "right",
                      "left"
                    ],
                    "font": {
                      "size": 14
                    },
                    "height": 25,
                    "line": {
                      "color": "#ffffff",
                      "width": 1
                    },
                    "values": [
                      "<b>(1)</b>",
                      " ",
                      " "
                    ]
                  },
                  "type": "table"
                },
                {
                  "cells": {
                    "align": [
                      "left",
                      "right",
                      "left"
                    ],
                    "font": {
                      "size": 14
                    },
                    "height": 25,
                    "line": {
                      "color": "#ffffff",
                      "width": 1
                    },
                    "values": [
                      [
                        "max<br>s.t.<br> "
                      ],
                      [
                        "z<br>x<sub>1</sub><br>x<sub>4</sub>"
                      ],
                      [
                        "= 4 + 4x<sub>2</sub> - 1x<sub>3</sub><br>= 4 + 3x<sub>2</sub> - 1x<sub>3</sub><br>= 9 - 9x<sub>2</sub> + 2x<sub>3</sub>"
                      ]
                    ]
                  },
                  "columnwidth": [
                    0.13333333333333333,
                    0.06666666666666667,
                    0.8
                  ],
                  "domain": {
                    "x": [
                      0.6052631578947368,
                      1
                    ],
                    "y": [
                      0,
                      1
                    ]
                  },
                  "header": {
                    "align": [
                      "left",
                      "right",
                      "left"
                    ],
                    "font": {
                      "size": 14
                    },
                    "height": 25,
                    "line": {
                      "color": "#ffffff",
                      "width": 1
                    },
                    "values": [
                      "<b>(1)</b>",
                      " ",
                      " "
                    ]
                  },
                  "type": "table"
                },
                {
                  "line": {
                    "color": "#d50000",
                    "width": 5
                  },
                  "mode": "lines",
                  "type": "scatter",
                  "visible": false,
                  "x": [
                    4,
                    5.5
                  ],
                  "y": [
                    0,
                    0.5
                  ]
                },
                {
                  "line": {
                    "color": "#d50000",
                    "width": 5
                  },
                  "mode": "lines",
                  "type": "scatter",
                  "visible": false,
                  "x": [
                    4,
                    7
                  ],
                  "y": [
                    0,
                    1
                  ]
                },
                {
                  "cells": {
                    "align": [
                      "left",
                      "right",
                      "left"
                    ],
                    "font": {
                      "size": 14
                    },
                    "height": 25,
                    "line": {
                      "color": "#ffffff",
                      "width": 1
                    },
                    "values": [
                      [
                        "max<br>s.t.<br> ",
                        "<b>(1)</b>",
                        "max<br>s.t.<br> "
                      ],
                      [
                        "z<br>x<sub>1</sub><br>x<sub>2</sub>",
                        " ",
                        "z<br>x<sub>1</sub><br>x<sub>4</sub>"
                      ],
                      [
                        "= 8 - 0.111x<sub>3</sub> - 0.444x<sub>4</sub><br>= 7 - 0.333x<sub>3</sub> - 0.333x<sub>4</sub><br>= 1 + 0.222x<sub>3</sub> - 0.111x<sub>4</sub>",
                        " ",
                        "= 4 + 4x<sub>2</sub> - 1x<sub>3</sub><br>= 4 + 3x<sub>2</sub> - 1x<sub>3</sub><br>= 9 - 9x<sub>2</sub> + 2x<sub>3</sub>"
                      ]
                    ]
                  },
                  "columnwidth": [
                    0.13333333333333333,
                    0.06666666666666667,
                    0.8
                  ],
                  "domain": {
                    "x": [
                      0.6052631578947368,
                      1
                    ],
                    "y": [
                      0,
                      1
                    ]
                  },
                  "header": {
                    "align": [
                      "left",
                      "right",
                      "left"
                    ],
                    "font": {
                      "size": 14
                    },
                    "height": 25,
                    "line": {
                      "color": "#ffffff",
                      "width": 1
                    },
                    "values": [
                      "<b>(2)</b>",
                      " ",
                      " "
                    ]
                  },
                  "type": "table"
                },
                {
                  "cells": {
                    "align": [
                      "left",
                      "right",
                      "left"
                    ],
                    "font": {
                      "size": 14
                    },
                    "height": 25,
                    "line": {
                      "color": "#ffffff",
                      "width": 1
                    },
                    "values": [
                      [
                        "max<br>s.t.<br> "
                      ],
                      [
                        "z<br>x<sub>1</sub><br>x<sub>2</sub>"
                      ],
                      [
                        "= 8 - 0.111x<sub>3</sub> - 0.444x<sub>4</sub><br>= 7 - 0.333x<sub>3</sub> - 0.333x<sub>4</sub><br>= 1 + 0.222x<sub>3</sub> - 0.111x<sub>4</sub>"
                      ]
                    ]
                  },
                  "columnwidth": [
                    0.13333333333333333,
                    0.06666666666666667,
                    0.8
                  ],
                  "domain": {
                    "x": [
                      0.6052631578947368,
                      1
                    ],
                    "y": [
                      0,
                      1
                    ]
                  },
                  "header": {
                    "align": [
                      "left",
                      "right",
                      "left"
                    ],
                    "font": {
                      "size": 14
                    },
                    "height": 25,
                    "line": {
                      "color": "#ffffff",
                      "width": 1
                    },
                    "values": [
                      "<b>(2)</b>",
                      " ",
                      " "
                    ]
                  },
                  "type": "table"
                },
                {
                  "type": "scatter",
                  "x": [
                    0
                  ],
                  "y": [
                    0
                  ]
                },
                {
                  "marker": {
                    "color": "#d50000",
                    "symbol": "circle"
                  },
                  "type": "scatter",
                  "x": [
                    7
                  ],
                  "y": [
                    1
                  ]
                }
              ],
              "layout": {
                "sliders": [
                  {
                    "active": 0,
                    "currentvalue": {
                      "prefix": "Objective Value: "
                    },
                    "len": 0.39473684210526316,
                    "lenmode": "fraction",
                    "steps": [
                      {
                        "args": [
                          {
                            "visible": [
                              false,
                              null,
                              null,
                              null,
                              null,
                              true,
                              false,
                              false,
                              false,
                              false,
                              false,
                              false,
                              false,
                              false,
                              false,
                              false,
                              false,
                              false,
                              false,
                              false,
                              false,
                              false,
                              false,
                              false,
                              false,
                              false,
                              false,
                              false,
                              false,
                              false,
                              false,
                              false,
                              false,
                              false,
                              false,
                              false,
                              false,
                              false,
                              false,
                              false,
                              false,
                              false
                            ]
                          }
                        ],
                        "label": "0.0",
                        "method": "update"
                      },
                      {
                        "args": [
                          {
                            "visible": [
                              false,
                              null,
                              null,
                              null,
                              null,
                              false,
                              true,
                              false,
                              false,
                              false,
                              false,
                              false,
                              false,
                              false,
                              false,
                              false,
                              false,
                              false,
                              false,
                              false,
                              false,
                              false,
                              false,
                              false,
                              false,
                              false,
                              false,
                              false,
                              false,
                              false,
                              false,
                              false,
                              false,
                              false,
                              false,
                              false,
                              false,
                              false,
                              false,
                              false,
                              false,
                              false
                            ]
                          }
                        ],
                        "label": "0.69",
                        "method": "update"
                      },
                      {
                        "args": [
                          {
                            "visible": [
                              false,
                              null,
                              null,
                              null,
                              null,
                              false,
                              false,
                              true,
                              false,
                              false,
                              false,
                              false,
                              false,
                              false,
                              false,
                              false,
                              false,
                              false,
                              false,
                              false,
                              false,
                              false,
                              false,
                              false,
                              false,
                              false,
                              false,
                              false,
                              false,
                              false,
                              false,
                              false,
                              false,
                              false,
                              false,
                              false,
                              false,
                              false,
                              false,
                              false,
                              false,
                              false
                            ]
                          }
                        ],
                        "label": "1.37",
                        "method": "update"
                      },
                      {
                        "args": [
                          {
                            "visible": [
                              false,
                              null,
                              null,
                              null,
                              null,
                              false,
                              false,
                              false,
                              true,
                              false,
                              false,
                              false,
                              false,
                              false,
                              false,
                              false,
                              false,
                              false,
                              false,
                              false,
                              false,
                              false,
                              false,
                              false,
                              false,
                              false,
                              false,
                              false,
                              false,
                              false,
                              false,
                              false,
                              false,
                              false,
                              false,
                              false,
                              false,
                              false,
                              false,
                              false,
                              false,
                              false
                            ]
                          }
                        ],
                        "label": "2.06",
                        "method": "update"
                      },
                      {
                        "args": [
                          {
                            "visible": [
                              false,
                              null,
                              null,
                              null,
                              null,
                              false,
                              false,
                              false,
                              false,
                              true,
                              false,
                              false,
                              false,
                              false,
                              false,
                              false,
                              false,
                              false,
                              false,
                              false,
                              false,
                              false,
                              false,
                              false,
                              false,
                              false,
                              false,
                              false,
                              false,
                              false,
                              false,
                              false,
                              false,
                              false,
                              false,
                              false,
                              false,
                              false,
                              false,
                              false,
                              false,
                              false
                            ]
                          }
                        ],
                        "label": "2.74",
                        "method": "update"
                      },
                      {
                        "args": [
                          {
                            "visible": [
                              false,
                              null,
                              null,
                              null,
                              null,
                              false,
                              false,
                              false,
                              false,
                              false,
                              true,
                              false,
                              false,
                              false,
                              false,
                              false,
                              false,
                              false,
                              false,
                              false,
                              false,
                              false,
                              false,
                              false,
                              false,
                              false,
                              false,
                              false,
                              false,
                              false,
                              false,
                              false,
                              false,
                              false,
                              false,
                              false,
                              false,
                              false,
                              false,
                              false,
                              false,
                              false
                            ]
                          }
                        ],
                        "label": "3.43",
                        "method": "update"
                      },
                      {
                        "args": [
                          {
                            "visible": [
                              false,
                              null,
                              null,
                              null,
                              null,
                              false,
                              false,
                              false,
                              false,
                              false,
                              false,
                              true,
                              false,
                              false,
                              false,
                              false,
                              false,
                              false,
                              false,
                              false,
                              false,
                              false,
                              false,
                              false,
                              false,
                              false,
                              false,
                              false,
                              false,
                              false,
                              false,
                              false,
                              false,
                              false,
                              false,
                              false,
                              false,
                              false,
                              false,
                              false,
                              false,
                              false
                            ]
                          }
                        ],
                        "label": "4.12",
                        "method": "update"
                      },
                      {
                        "args": [
                          {
                            "visible": [
                              false,
                              null,
                              null,
                              null,
                              null,
                              false,
                              false,
                              false,
                              false,
                              false,
                              false,
                              false,
                              true,
                              false,
                              false,
                              false,
                              false,
                              false,
                              false,
                              false,
                              false,
                              false,
                              false,
                              false,
                              false,
                              false,
                              false,
                              false,
                              false,
                              false,
                              false,
                              false,
                              false,
                              false,
                              false,
                              false,
                              false,
                              false,
                              false,
                              false,
                              false,
                              false
                            ]
                          }
                        ],
                        "label": "4.8",
                        "method": "update"
                      },
                      {
                        "args": [
                          {
                            "visible": [
                              false,
                              null,
                              null,
                              null,
                              null,
                              false,
                              false,
                              false,
                              false,
                              false,
                              false,
                              false,
                              false,
                              true,
                              false,
                              false,
                              false,
                              false,
                              false,
                              false,
                              false,
                              false,
                              false,
                              false,
                              false,
                              false,
                              false,
                              false,
                              false,
                              false,
                              false,
                              false,
                              false,
                              false,
                              false,
                              false,
                              false,
                              false,
                              false,
                              false,
                              false,
                              false
                            ]
                          }
                        ],
                        "label": "5.49",
                        "method": "update"
                      },
                      {
                        "args": [
                          {
                            "visible": [
                              false,
                              null,
                              null,
                              null,
                              null,
                              false,
                              false,
                              false,
                              false,
                              false,
                              false,
                              false,
                              false,
                              false,
                              true,
                              false,
                              false,
                              false,
                              false,
                              false,
                              false,
                              false,
                              false,
                              false,
                              false,
                              false,
                              false,
                              false,
                              false,
                              false,
                              false,
                              false,
                              false,
                              false,
                              false,
                              false,
                              false,
                              false,
                              false,
                              false,
                              false,
                              false
                            ]
                          }
                        ],
                        "label": "6.18",
                        "method": "update"
                      },
                      {
                        "args": [
                          {
                            "visible": [
                              false,
                              null,
                              null,
                              null,
                              null,
                              false,
                              false,
                              false,
                              false,
                              false,
                              false,
                              false,
                              false,
                              false,
                              false,
                              true,
                              false,
                              false,
                              false,
                              false,
                              false,
                              false,
                              false,
                              false,
                              false,
                              false,
                              false,
                              false,
                              false,
                              false,
                              false,
                              false,
                              false,
                              false,
                              false,
                              false,
                              false,
                              false,
                              false,
                              false,
                              false,
                              false
                            ]
                          }
                        ],
                        "label": "6.86",
                        "method": "update"
                      },
                      {
                        "args": [
                          {
                            "visible": [
                              false,
                              null,
                              null,
                              null,
                              null,
                              false,
                              false,
                              false,
                              false,
                              false,
                              false,
                              false,
                              false,
                              false,
                              false,
                              false,
                              true,
                              false,
                              false,
                              false,
                              false,
                              false,
                              false,
                              false,
                              false,
                              false,
                              false,
                              false,
                              false,
                              false,
                              false,
                              false,
                              false,
                              false,
                              false,
                              false,
                              false,
                              false,
                              false,
                              false,
                              false,
                              false
                            ]
                          }
                        ],
                        "label": "7.55",
                        "method": "update"
                      },
                      {
                        "args": [
                          {
                            "visible": [
                              false,
                              null,
                              null,
                              null,
                              null,
                              false,
                              false,
                              false,
                              false,
                              false,
                              false,
                              false,
                              false,
                              false,
                              false,
                              false,
                              false,
                              true,
                              false,
                              false,
                              false,
                              false,
                              false,
                              false,
                              false,
                              false,
                              false,
                              false,
                              false,
                              false,
                              false,
                              false,
                              false,
                              false,
                              false,
                              false,
                              false,
                              false,
                              false,
                              false,
                              false,
                              false
                            ]
                          }
                        ],
                        "label": "8.0",
                        "method": "update"
                      },
                      {
                        "args": [
                          {
                            "visible": [
                              false,
                              null,
                              null,
                              null,
                              null,
                              false,
                              false,
                              false,
                              false,
                              false,
                              false,
                              false,
                              false,
                              false,
                              false,
                              false,
                              false,
                              false,
                              true,
                              false,
                              false,
                              false,
                              false,
                              false,
                              false,
                              false,
                              false,
                              false,
                              false,
                              false,
                              false,
                              false,
                              false,
                              false,
                              false,
                              false,
                              false,
                              false,
                              false,
                              false,
                              false,
                              false
                            ]
                          }
                        ],
                        "label": "8.23",
                        "method": "update"
                      },
                      {
                        "args": [
                          {
                            "visible": [
                              false,
                              null,
                              null,
                              null,
                              null,
                              false,
                              false,
                              false,
                              false,
                              false,
                              false,
                              false,
                              false,
                              false,
                              false,
                              false,
                              false,
                              false,
                              false,
                              true,
                              false,
                              false,
                              false,
                              false,
                              false,
                              false,
                              false,
                              false,
                              false,
                              false,
                              false,
                              false,
                              false,
                              false,
                              false,
                              false,
                              false,
                              false,
                              false,
                              false,
                              false,
                              false
                            ]
                          }
                        ],
                        "label": "8.92",
                        "method": "update"
                      },
                      {
                        "args": [
                          {
                            "visible": [
                              false,
                              null,
                              null,
                              null,
                              null,
                              false,
                              false,
                              false,
                              false,
                              false,
                              false,
                              false,
                              false,
                              false,
                              false,
                              false,
                              false,
                              false,
                              false,
                              false,
                              true,
                              false,
                              false,
                              false,
                              false,
                              false,
                              false,
                              false,
                              false,
                              false,
                              false,
                              false,
                              false,
                              false,
                              false,
                              false,
                              false,
                              false,
                              false,
                              false,
                              false,
                              false
                            ]
                          }
                        ],
                        "label": "9.61",
                        "method": "update"
                      },
                      {
                        "args": [
                          {
                            "visible": [
                              false,
                              null,
                              null,
                              null,
                              null,
                              false,
                              false,
                              false,
                              false,
                              false,
                              false,
                              false,
                              false,
                              false,
                              false,
                              false,
                              false,
                              false,
                              false,
                              false,
                              false,
                              true,
                              false,
                              false,
                              false,
                              false,
                              false,
                              false,
                              false,
                              false,
                              false,
                              false,
                              false,
                              false,
                              false,
                              false,
                              false,
                              false,
                              false,
                              false,
                              false,
                              false
                            ]
                          }
                        ],
                        "label": "10.29",
                        "method": "update"
                      },
                      {
                        "args": [
                          {
                            "visible": [
                              false,
                              null,
                              null,
                              null,
                              null,
                              false,
                              false,
                              false,
                              false,
                              false,
                              false,
                              false,
                              false,
                              false,
                              false,
                              false,
                              false,
                              false,
                              false,
                              false,
                              false,
                              false,
                              true,
                              false,
                              false,
                              false,
                              false,
                              false,
                              false,
                              false,
                              false,
                              false,
                              false,
                              false,
                              false,
                              false,
                              false,
                              false,
                              false,
                              false,
                              false,
                              false
                            ]
                          }
                        ],
                        "label": "10.98",
                        "method": "update"
                      },
                      {
                        "args": [
                          {
                            "visible": [
                              false,
                              null,
                              null,
                              null,
                              null,
                              false,
                              false,
                              false,
                              false,
                              false,
                              false,
                              false,
                              false,
                              false,
                              false,
                              false,
                              false,
                              false,
                              false,
                              false,
                              false,
                              false,
                              false,
                              true,
                              false,
                              false,
                              false,
                              false,
                              false,
                              false,
                              false,
                              false,
                              false,
                              false,
                              false,
                              false,
                              false,
                              false,
                              false,
                              false,
                              false,
                              false
                            ]
                          }
                        ],
                        "label": "11.66",
                        "method": "update"
                      },
                      {
                        "args": [
                          {
                            "visible": [
                              false,
                              null,
                              null,
                              null,
                              null,
                              false,
                              false,
                              false,
                              false,
                              false,
                              false,
                              false,
                              false,
                              false,
                              false,
                              false,
                              false,
                              false,
                              false,
                              false,
                              false,
                              false,
                              false,
                              false,
                              true,
                              false,
                              false,
                              false,
                              false,
                              false,
                              false,
                              false,
                              false,
                              false,
                              false,
                              false,
                              false,
                              false,
                              false,
                              false,
                              false,
                              false
                            ]
                          }
                        ],
                        "label": "12.35",
                        "method": "update"
                      },
                      {
                        "args": [
                          {
                            "visible": [
                              false,
                              null,
                              null,
                              null,
                              null,
                              false,
                              false,
                              false,
                              false,
                              false,
                              false,
                              false,
                              false,
                              false,
                              false,
                              false,
                              false,
                              false,
                              false,
                              false,
                              false,
                              false,
                              false,
                              false,
                              false,
                              true,
                              false,
                              false,
                              false,
                              false,
                              false,
                              false,
                              false,
                              false,
                              false,
                              false,
                              false,
                              false,
                              false,
                              false,
                              false,
                              false
                            ]
                          }
                        ],
                        "label": "13.04",
                        "method": "update"
                      },
                      {
                        "args": [
                          {
                            "visible": [
                              false,
                              null,
                              null,
                              null,
                              null,
                              false,
                              false,
                              false,
                              false,
                              false,
                              false,
                              false,
                              false,
                              false,
                              false,
                              false,
                              false,
                              false,
                              false,
                              false,
                              false,
                              false,
                              false,
                              false,
                              false,
                              false,
                              true,
                              false,
                              false,
                              false,
                              false,
                              false,
                              false,
                              false,
                              false,
                              false,
                              false,
                              false,
                              false,
                              false,
                              false,
                              false
                            ]
                          }
                        ],
                        "label": "13.72",
                        "method": "update"
                      },
                      {
                        "args": [
                          {
                            "visible": [
                              false,
                              null,
                              null,
                              null,
                              null,
                              false,
                              false,
                              false,
                              false,
                              false,
                              false,
                              false,
                              false,
                              false,
                              false,
                              false,
                              false,
                              false,
                              false,
                              false,
                              false,
                              false,
                              false,
                              false,
                              false,
                              false,
                              false,
                              true,
                              false,
                              false,
                              false,
                              false,
                              false,
                              false,
                              false,
                              false,
                              false,
                              false,
                              false,
                              false,
                              false,
                              false
                            ]
                          }
                        ],
                        "label": "14.41",
                        "method": "update"
                      },
                      {
                        "args": [
                          {
                            "visible": [
                              false,
                              null,
                              null,
                              null,
                              null,
                              false,
                              false,
                              false,
                              false,
                              false,
                              false,
                              false,
                              false,
                              false,
                              false,
                              false,
                              false,
                              false,
                              false,
                              false,
                              false,
                              false,
                              false,
                              false,
                              false,
                              false,
                              false,
                              false,
                              true,
                              false,
                              false,
                              false,
                              false,
                              false,
                              false,
                              false,
                              false,
                              false,
                              false,
                              false,
                              false,
                              false
                            ]
                          }
                        ],
                        "label": "15.09",
                        "method": "update"
                      },
                      {
                        "args": [
                          {
                            "visible": [
                              false,
                              null,
                              null,
                              null,
                              null,
                              false,
                              false,
                              false,
                              false,
                              false,
                              false,
                              false,
                              false,
                              false,
                              false,
                              false,
                              false,
                              false,
                              false,
                              false,
                              false,
                              false,
                              false,
                              false,
                              false,
                              false,
                              false,
                              false,
                              false,
                              true,
                              false,
                              false,
                              false,
                              false,
                              false,
                              false,
                              false,
                              false,
                              false,
                              false,
                              false,
                              false
                            ]
                          }
                        ],
                        "label": "15.78",
                        "method": "update"
                      }
                    ],
                    "tickcolor": "white",
                    "ticklen": 0,
                    "x": 0.6052631578947368,
                    "xanchor": "left",
                    "y": 0.01,
                    "yanchor": "bottom"
                  },
                  {
                    "active": 0,
                    "currentvalue": {
                      "prefix": "Iteration: "
                    },
                    "len": 0.39473684210526316,
                    "lenmode": "fraction",
                    "steps": [
                      {
                        "args": [
                          {
                            "visible": [
                              false,
                              null,
                              null,
                              null,
                              null,
                              false,
                              false,
                              false,
                              false,
                              false,
                              false,
                              false,
                              false,
                              false,
                              false,
                              false,
                              false,
                              false,
                              false,
                              false,
                              false,
                              false,
                              false,
                              false,
                              false,
                              false,
                              false,
                              false,
                              false,
                              false,
                              false,
                              true,
                              false,
                              false,
                              false,
                              false,
                              false,
                              false,
                              false,
                              false,
                              true,
                              true
                            ]
                          }
                        ],
                        "label": "0",
                        "method": "update"
                      },
                      {
                        "args": [
                          {
                            "visible": [
                              false,
                              null,
                              null,
                              null,
                              null,
                              false,
                              false,
                              false,
                              false,
                              false,
                              false,
                              false,
                              false,
                              false,
                              false,
                              false,
                              false,
                              false,
                              false,
                              false,
                              false,
                              false,
                              false,
                              false,
                              false,
                              false,
                              false,
                              false,
                              false,
                              false,
                              false,
                              false,
                              true,
                              false,
                              true,
                              false,
                              false,
                              false,
                              false,
                              false,
                              true,
                              true
                            ]
                          }
                        ],
                        "label": "",
                        "method": "update"
                      },
                      {
                        "args": [
                          {
                            "visible": [
                              false,
                              null,
                              null,
                              null,
                              null,
                              false,
                              false,
                              false,
                              false,
                              false,
                              false,
                              false,
                              false,
                              false,
                              false,
                              false,
                              false,
                              false,
                              false,
                              false,
                              false,
                              false,
                              false,
                              false,
                              false,
                              false,
                              false,
                              false,
                              false,
                              false,
                              false,
                              false,
                              true,
                              true,
                              false,
                              true,
                              false,
                              false,
                              false,
                              false,
                              true,
                              true
                            ]
                          }
                        ],
                        "label": "1",
                        "method": "update"
                      },
                      {
                        "args": [
                          {
                            "visible": [
                              false,
                              null,
                              null,
                              null,
                              null,
                              false,
                              false,
                              false,
                              false,
                              false,
                              false,
                              false,
                              false,
                              false,
                              false,
                              false,
                              false,
                              false,
                              false,
                              false,
                              false,
                              false,
                              false,
                              false,
                              false,
                              false,
                              false,
                              false,
                              false,
                              false,
                              false,
                              false,
                              true,
                              true,
                              false,
                              false,
                              true,
                              false,
                              true,
                              false,
                              true,
                              true
                            ]
                          }
                        ],
                        "label": "",
                        "method": "update"
                      },
                      {
                        "args": [
                          {
                            "visible": [
                              false,
                              null,
                              null,
                              null,
                              null,
                              false,
                              false,
                              false,
                              false,
                              false,
                              false,
                              false,
                              false,
                              false,
                              false,
                              false,
                              false,
                              false,
                              false,
                              false,
                              false,
                              false,
                              false,
                              false,
                              false,
                              false,
                              false,
                              false,
                              false,
                              false,
                              false,
                              false,
                              true,
                              true,
                              false,
                              false,
                              true,
                              true,
                              false,
                              true,
                              true,
                              true
                            ]
                          }
                        ],
                        "label": "2",
                        "method": "update"
                      }
                    ],
                    "tickcolor": "white",
                    "ticklen": 0,
                    "x": 0.6052631578947368,
                    "xanchor": "left",
                    "y": 0.17,
                    "yanchor": "bottom"
                  }
                ],
                "template": {
                  "data": {
                    "scatter": [
                      {
                        "cliponaxis": false,
                        "fillcolor": "#1565c0",
                        "hoverinfo": "none",
                        "line": {
                          "color": "#1469FE",
                          "width": 4
                        },
                        "marker": {
                          "color": "#ffffff",
                          "line": {
                            "color": "#d50000",
                            "width": 2
                          },
                          "opacity": 0.99,
                          "size": 9
                        },
                        "mode": "markers",
                        "showlegend": false,
                        "type": "scatter",
                        "visible": true
                      },
                      {
                        "cliponaxis": false,
                        "fillcolor": "#1565c0",
                        "hoverinfo": "none",
                        "line": {
                          "color": "#9495A6",
                          "width": 4
                        },
                        "marker": {
                          "color": "#ffffff",
                          "line": {
                            "color": "#d50000",
                            "width": 2
                          },
                          "opacity": 0.99,
                          "size": 9
                        },
                        "mode": "markers",
                        "showlegend": false,
                        "type": "scatter",
                        "visible": true
                      },
                      {
                        "cliponaxis": false,
                        "fillcolor": "#1565c0",
                        "hoverinfo": "none",
                        "line": {
                          "color": "#DC0000",
                          "width": 4
                        },
                        "marker": {
                          "color": "#ffffff",
                          "line": {
                            "color": "#d50000",
                            "width": 2
                          },
                          "opacity": 0.99,
                          "size": 9
                        },
                        "mode": "markers",
                        "showlegend": false,
                        "type": "scatter",
                        "visible": true
                      },
                      {
                        "cliponaxis": false,
                        "fillcolor": "#1565c0",
                        "hoverinfo": "none",
                        "line": {
                          "color": "#173D90",
                          "width": 4
                        },
                        "marker": {
                          "color": "#ffffff",
                          "line": {
                            "color": "#d50000",
                            "width": 2
                          },
                          "opacity": 0.99,
                          "size": 9
                        },
                        "mode": "markers",
                        "showlegend": false,
                        "type": "scatter",
                        "visible": true
                      },
                      {
                        "cliponaxis": false,
                        "fillcolor": "#1565c0",
                        "hoverinfo": "none",
                        "line": {
                          "color": "#65ADFF",
                          "width": 4
                        },
                        "marker": {
                          "color": "#ffffff",
                          "line": {
                            "color": "#d50000",
                            "width": 2
                          },
                          "opacity": 0.99,
                          "size": 9
                        },
                        "mode": "markers",
                        "showlegend": false,
                        "type": "scatter",
                        "visible": true
                      }
                    ],
                    "scatter3d": [
                      {
                        "hoverinfo": "none",
                        "line": {
                          "color": "#1565c0",
                          "width": 6
                        },
                        "marker": {
                          "color": "#ff5131",
                          "line": {
                            "color": "#d50000",
                            "width": 1
                          },
                          "opacity": 0.99,
                          "size": 5,
                          "symbol": "circle-open"
                        },
                        "mode": "markers",
                        "showlegend": false,
                        "surfacecolor": "#5e92f3",
                        "type": "scatter3d",
                        "visible": true
                      }
                    ],
                    "table": [
                      {
                        "cells": {
                          "fill": {
                            "color": "#ffffff"
                          },
                          "font": {
                            "color": [
                              [
                                "black",
                                "#d50000",
                                "black"
                              ],
                              [
                                "black",
                                "black",
                                "black"
                              ]
                            ]
                          }
                        },
                        "header": {
                          "fill": {
                            "color": "#ffffff"
                          },
                          "font": {
                            "color": [
                              "#d50000",
                              "black"
                            ]
                          }
                        },
                        "type": "table",
                        "visible": false
                      }
                    ]
                  },
                  "layout": {
                    "annotations": [
                      {
                        "align": "center",
                        "ax": 0,
                        "ay": 0,
                        "bgcolor": "#45568B",
                        "bordercolor": "#404040",
                        "borderpad": 3,
                        "borderwidth": 2,
                        "font": {
                          "color": "#ffffff",
                          "size": 12
                        },
                        "name": "current",
                        "visible": false
                      },
                      {
                        "align": "center",
                        "ax": 0,
                        "ay": 0,
                        "bgcolor": "#d8e4f9",
                        "bordercolor": "#404040",
                        "borderpad": 3,
                        "borderwidth": 2,
                        "font": {
                          "color": "#404040",
                          "size": 12
                        },
                        "name": "explored",
                        "visible": false
                      },
                      {
                        "align": "center",
                        "ax": 0,
                        "ay": 0,
                        "bgcolor": "#ffffff",
                        "bordercolor": "#404040",
                        "borderpad": 3,
                        "borderwidth": 2,
                        "font": {
                          "color": "#404040",
                          "size": 12
                        },
                        "name": "unexplored",
                        "visible": false
                      }
                    ],
                    "clickmode": "none",
                    "dragmode": "turntable",
                    "font": {
                      "color": "#404040",
                      "family": "Arial"
                    },
                    "height": 500,
                    "hovermode": "closest",
                    "legend": {
                      "font": {
                        "size": 13
                      },
                      "title": {
                        "font": {
                          "size": 14
                        },
                        "text": "<b>Constraint(s)</b>"
                      },
                      "x": 0.39473684210526316,
                      "xanchor": "left",
                      "y": 1,
                      "yanchor": "top"
                    },
                    "margin": {
                      "b": 0,
                      "l": 0,
                      "r": 0,
                      "t": 33
                    },
                    "paper_bgcolor": "#ffffff",
                    "plot_bgcolor": "#ffffff",
                    "width": 950,
                    "xaxis": {
                      "automargin": true,
                      "domain": [
                        0,
                        0.39473684210526316
                      ],
                      "gridcolor": "#DFDFDF",
                      "gridwidth": 1,
                      "layer": "below traces",
                      "linecolor": "#404040",
                      "linewidth": 2,
                      "rangemode": "tozero",
                      "showspikes": false,
                      "tickcolor": "#DFDFDF",
                      "ticks": "outside",
                      "title": {
                        "standoff": 15,
                        "text": "x<sub>1</sub>"
                      },
                      "zerolinewidth": 1
                    },
                    "yaxis": {
                      "automargin": true,
                      "domain": [
                        0,
                        1
                      ],
                      "gridcolor": "#DFDFDF",
                      "gridwidth": 1,
                      "layer": "below traces",
                      "linecolor": "#404040",
                      "linewidth": 2,
                      "rangemode": "tozero",
                      "showspikes": false,
                      "tickcolor": "#DFDFDF",
                      "ticks": "outside",
                      "title": {
                        "standoff": 15,
                        "text": "x<sub>2</sub>"
                      },
                      "zerolinewidth": 1
                    }
                  }
                },
                "xaxis": {
                  "anchor": "y",
                  "domain": [
                    0,
                    0.39473684210526316
                  ],
                  "range": [
                    0,
                    9.1
                  ]
                },
                "xaxis2": {
                  "domain": [
                    0.5,
                    1
                  ],
                  "range": [
                    0,
                    1
                  ],
                  "visible": false
                },
                "yaxis": {
                  "anchor": "x",
                  "domain": [
                    0,
                    1
                  ],
                  "range": [
                    0,
                    7.366666666667101
                  ]
                },
                "yaxis2": {
                  "domain": [
                    0.15,
                    1
                  ],
                  "range": [
                    0,
                    1
                  ],
                  "visible": false
                }
              }
            }
          },
          "metadata": {},
          "output_type": "display_data"
        }
      ],
      "source": [
        "if choice!=\"EX2\":\n",
        "  lp=LP(A,b,c)\n",
        "  simplex_visual(lp).show()"
      ]
    },
    {
      "attachments": {},
      "cell_type": "markdown",
      "metadata": {
        "id": "ILXhYHcLSiHQ"
      },
      "source": [
        "For EX2 there is no maximum since it is unbounded."
      ]
    },
    {
      "cell_type": "code",
      "execution_count": 6,
      "metadata": {
        "id": "dFCYi-g4IcuA"
      },
      "outputs": [],
      "source": [
        "# linprog computes the min. If we want to maximize we minimize the negative\n",
        "c=[-x for x in c]\n",
        "\n",
        "res=linprog(c,A,b,bounds=[x1_bounds,x2_bounds])"
      ]
    },
    {
      "cell_type": "code",
      "execution_count": 7,
      "metadata": {
        "colab": {
          "base_uri": "https://localhost:8080/"
        },
        "id": "8_tvz2T_KztB",
        "outputId": "ce4dc345-a5e3-4ee0-c3d0-72e277e8b9d2"
      },
      "outputs": [
        {
          "name": "stdout",
          "output_type": "stream",
          "text": [
            "optimal value is -8.0 for [7. 1.]\n"
          ]
        }
      ],
      "source": [
        "print(\"optimal value is {} for {}\".format(res.fun,res.x))"
      ]
    },
    {
      "attachments": {},
      "cell_type": "markdown",
      "metadata": {
        "id": "nAcFNVqfQb9H"
      },
      "source": [
        "Plot the feasible region for the unbounded problem (EX2)"
      ]
    },
    {
      "cell_type": "code",
      "execution_count": 8,
      "metadata": {
        "colab": {
          "base_uri": "https://localhost:8080/",
          "height": 917
        },
        "id": "iAHCvVhR1Ph2",
        "outputId": "51ce6107-dbb8-4b29-975a-4d430c1ead76"
      },
      "outputs": [],
      "source": [
        "if choice==\"EX2\":\n",
        "  d = np.linspace(0,40,300)\n",
        "  x,y = np.meshgrid(d,d)\n",
        "  plt.imshow( ((x<=10+y) & (2*x<=40+y) ).astype(int) , \n",
        "                extent=(x.min(),x.max(),y.min(),y.max()),origin=\"lower\", cmap=\"Reds\", alpha = 0.2);\n",
        "  x = np.linspace(0, 40, 500)\n",
        "  y1=x-10\n",
        "  y2=2*x-40\n",
        "  plt.plot(x,y1)\n",
        "  plt.plot(x,y2)\n",
        "  plt.ylim(0,40)\n",
        "  plt.xlabel(\"$x_1$\")\n",
        "  plt.ylabel(\"$x_2$\")"
      ]
    },
    {
      "cell_type": "code",
      "execution_count": null,
      "metadata": {
        "id": "HpwmMfXZ7Ju_"
      },
      "outputs": [],
      "source": []
    }
  ],
  "metadata": {
    "colab": {
      "provenance": []
    },
    "kernelspec": {
      "display_name": "Python 3",
      "name": "python3"
    },
    "language_info": {
      "codemirror_mode": {
        "name": "ipython",
        "version": 3
      },
      "file_extension": ".py",
      "mimetype": "text/x-python",
      "name": "python",
      "nbconvert_exporter": "python",
      "pygments_lexer": "ipython3",
      "version": "3.9.11"
    }
  },
  "nbformat": 4,
  "nbformat_minor": 0
}
