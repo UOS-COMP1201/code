{
  "cells": [
    {
      "cell_type": "code",
      "execution_count": 1,
      "metadata": {
        "id": "79D1CfF1MYj6"
      },
      "outputs": [],
      "source": [
        "!pip install gilp >/dev/null 2>&1"
      ]
    },
    {
      "cell_type": "code",
      "execution_count": 2,
      "metadata": {
        "id": "-ui9nDmOIY3R"
      },
      "outputs": [],
      "source": [
        "from gilp.simplex import LP\n",
        "import numpy as np\n",
        "from scipy.optimize import linprog\n",
        "from gilp.simplex import LP\n",
        "from gilp.visualize import simplex_visual\n",
        "import matplotlib.pyplot as plt\n"
      ]
    },
    {
      "cell_type": "markdown",
      "metadata": {
        "id": "mgC3dn9xNC01"
      },
      "source": [
        "First example (i.e., \"EX1\")\n",
        "maximize $5x_1+3x_2$ subject to\n",
        "\n",
        "$ \\begin{align*}\n",
        "    2x_1+x_2\\le 20\\\\\n",
        "    x_1+x_2\\le 16\\\\\n",
        "    3x_1+2x_2\\le 35\n",
        "\\end{align*}\n",
        " $\n",
        "\n",
        "Second example (i.e., \"EX2\" it is unbounded)\n",
        "maximize $5x_1+6x_2$ subject to\n",
        "\n",
        "$\n",
        "\\begin{align*}\n",
        "x_1+2x_2\\ge 8\\\\\n",
        "6x_1+4x_2\\ge 36\\\\\n",
        "x_1\\ge 7\n",
        "\\end{align*}\n",
        "$"
      ]
    },
    {
      "cell_type": "code",
      "execution_count": 3,
      "metadata": {
        "id": "PFte-inz2HXC"
      },
      "outputs": [],
      "source": [
        "choice=\"EX2\""
      ]
    },
    {
      "cell_type": "code",
      "execution_count": 4,
      "metadata": {
        "id": "y-UDoY_OLer6"
      },
      "outputs": [],
      "source": [
        "if choice==\"EX1\":\n",
        "  c=np.array([5,3])\n",
        "  A=np.array([[2,1],[1,1],[3,2]])\n",
        "  b=np.array([20,16,35])\n",
        "  x1_bounds=(0,None)\n",
        "  x2_bounds=(0,None)\n",
        "elif choice==\"EX2\":\n",
        "  c=np.array([2,1])\n",
        "  A=np.array([[1,-1],[2,-1]])\n",
        "  b=np.array([10,40])\n",
        "  x1_bounds=(0,None)\n",
        "  x2_bounds=(0,None)\n",
        "else:\n",
        "  c=np.array([1,1])\n",
        "  A=np.array([[1,-3],[2,3]])\n",
        "  b=np.array([4,17])\n",
        "  x1_bounds=(0,None)\n",
        "  x2_bounds=(0,None)"
      ]
    },
    {
      "cell_type": "markdown",
      "metadata": {
        "id": "ZIsx9gV2STAh"
      },
      "source": [
        "GILP chokes on unbounded problems. Did not take the time to investigate so i skipped EX2 and plot the region at the end of the notebook using matplotlib"
      ]
    },
    {
      "cell_type": "code",
      "execution_count": 5,
      "metadata": {
        "id": "WfcrOa9qNS7l"
      },
      "outputs": [],
      "source": [
        "if choice!=\"EX2\":\n",
        "  lp=LP(A,b,c)\n",
        "  simplex_visual(lp).show()"
      ]
    },
    {
      "cell_type": "markdown",
      "metadata": {
        "id": "ILXhYHcLSiHQ"
      },
      "source": [
        "For EX2 there is no maximum since it is unbounded."
      ]
    },
    {
      "cell_type": "code",
      "execution_count": 6,
      "metadata": {
        "id": "dFCYi-g4IcuA"
      },
      "outputs": [],
      "source": [
        "# linprog computes the min. If we want to maximize we minimize the negative\n",
        "c=[-x for x in c]\n",
        "\n",
        "res=linprog(c,A,b,bounds=[x1_bounds,x2_bounds])"
      ]
    },
    {
      "cell_type": "code",
      "execution_count": 7,
      "metadata": {
        "colab": {
          "base_uri": "https://localhost:8080/"
        },
        "id": "8_tvz2T_KztB",
        "outputId": "ce4dc345-a5e3-4ee0-c3d0-72e277e8b9d2"
      },
      "outputs": [
        {
          "output_type": "stream",
          "name": "stdout",
          "text": [
            "optimal value is None for None\n"
          ]
        }
      ],
      "source": [
        "print(\"optimal value is {} for {}\".format(res.fun,res.x))"
      ]
    },
    {
      "cell_type": "markdown",
      "metadata": {
        "id": "nAcFNVqfQb9H"
      },
      "source": [
        "Plot the feasible region for the unbounded problem (EX2)"
      ]
    },
    {
      "cell_type": "code",
      "source": [
        "if choice==\"EX2\":\n",
        "  d = np.linspace(0,40,300)\n",
        "  x,y = np.meshgrid(d,d)\n",
        "  plt.imshow( ((x<=10+y) & (2*x<=40+y) ).astype(int) , \n",
        "                extent=(x.min(),x.max(),y.min(),y.max()),origin=\"lower\", cmap=\"Reds\", alpha = 0.2);\n",
        "  x = np.linspace(0, 40, 500)\n",
        "  y1=x-10\n",
        "  y2=2*x-40\n",
        "  plt.plot(x,y1)\n",
        "  plt.plot(x,y2)\n",
        "  plt.ylim(0,40)\n",
        "  plt.xlabel(\"$x_1$\")\n",
        "  plt.ylabel(\"$x_2$\")"
      ],
      "metadata": {
        "id": "iAHCvVhR1Ph2",
        "outputId": "51ce6107-dbb8-4b29-975a-4d430c1ead76",
        "colab": {
          "base_uri": "https://localhost:8080/",
          "height": 917
        }
      },
      "execution_count": 8,
      "outputs": [
        {
          "output_type": "stream",
          "name": "stderr",
          "text": [
            "Exception in thread Thread-5 (attachment_entry):\n",
            "Traceback (most recent call last):\n",
            "  File \"/usr/local/lib/python3.10/dist-packages/debugpy/server/api.py\", line 237, in listen\n",
            "    sock, _ = endpoints_listener.accept()\n",
            "  File \"/usr/lib/python3.10/socket.py\", line 293, in accept\n",
            "    fd, addr = self._accept()\n",
            "TimeoutError: timed out\n",
            "\n",
            "During handling of the above exception, another exception occurred:\n",
            "\n",
            "Traceback (most recent call last):\n",
            "  File \"/usr/lib/python3.10/threading.py\", line 1016, in _bootstrap_inner\n",
            "    self.run()\n",
            "  File \"/usr/lib/python3.10/threading.py\", line 953, in run\n",
            "    self._target(*self._args, **self._kwargs)\n",
            "  File \"/usr/local/lib/python3.10/dist-packages/google/colab/_debugpy.py\", line 52, in attachment_entry\n",
            "    debugpy.listen(_dap_port)\n",
            "  File \"/usr/local/lib/python3.10/dist-packages/debugpy/public_api.py\", line 31, in wrapper\n",
            "    return wrapped(*args, **kwargs)\n",
            "  File \"/usr/local/lib/python3.10/dist-packages/debugpy/server/api.py\", line 143, in debug\n",
            "    log.reraise_exception(\"{0}() failed:\", func.__name__, level=\"info\")\n",
            "  File \"/usr/local/lib/python3.10/dist-packages/debugpy/server/api.py\", line 141, in debug\n",
            "    return func(address, settrace_kwargs, **kwargs)\n",
            "  File \"/usr/local/lib/python3.10/dist-packages/debugpy/server/api.py\", line 251, in listen\n",
            "    raise RuntimeError(\"timed out waiting for adapter to connect\")\n",
            "RuntimeError: timed out waiting for adapter to connect\n"
          ]
        },
        {
          "output_type": "display_data",
          "data": {
            "text/plain": [
              "<Figure size 640x480 with 1 Axes>"
            ],
            "image/png": "[encoded data removed]"
          },
          "metadata": {}
        }
      ]
    },
    {
      "cell_type": "code",
      "source": [],
      "metadata": {
        "id": "HpwmMfXZ7Ju_"
      },
      "execution_count": 8,
      "outputs": []
    }
  ],
  "metadata": {
    "colab": {
      "provenance": []
    },
    "kernelspec": {
      "display_name": "Python 3",
      "name": "python3"
    },
    "language_info": {
      "name": "python"
    }
  },
  "nbformat": 4,
  "nbformat_minor": 0
}