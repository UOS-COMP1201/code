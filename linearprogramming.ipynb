{
  "cells": [
    {
      "attachments": {},
      "cell_type": "markdown",
      "metadata": {
        "colab_type": "text",
        "id": "view-in-github"
      },
      "source": [
        "<a href=\"https://colab.research.google.com/github/UOS-COMP1201/code/blob/main/linearprogramming.ipynb\" target=\"_parent\"><img src=\"https://colab.research.google.com/assets/colab-badge.svg\" alt=\"Open In Colab\"/></a>"
      ]
    },
    {
      "cell_type": "code",
      "execution_count": null,
      "metadata": {
        "id": "79D1CfF1MYj6"
      },
      "outputs": [],
      "source": [
        "!pip install gilp >/dev/null 2>&1"
      ]
    },
    {
      "cell_type": "code",
      "execution_count": null,
      "metadata": {
        "id": "-ui9nDmOIY3R"
      },
      "outputs": [],
      "source": [
        "from gilp.simplex import LP\n",
        "import numpy as np\n",
        "from scipy.optimize import linprog\n",
        "from gilp.simplex import LP\n",
        "from gilp.visualize import simplex_visual\n",
        "import matplotlib.pyplot as plt\n"
      ]
    },
    {
      "attachments": {},
      "cell_type": "markdown",
      "metadata": {
        "id": "mgC3dn9xNC01"
      },
      "source": [
        "First example (i.e., \"EX1\")\n",
        "maximize $5x_1+3x_2$ subject to\n",
        "\n",
        "$ \\begin{align*}\n",
        "    2x_1+x_2\\le 20\\\\\n",
        "    x_1+x_2\\le 16\\\\\n",
        "    3x_1+2x_2\\le 35\n",
        "\\end{align*}\n",
        " $\n",
        "\n",
        "Second example (i.e., \"EX2\" it is unbounded)\n",
        "maximize $5x_1+6x_2$ subject to\n",
        "\n",
        "$\n",
        "\\begin{align*}\n",
        "x_1+2x_2\\ge 8\\\\\n",
        "6x_1+4x_2\\ge 36\\\\\n",
        "x_1\\ge 7\n",
        "\\end{align*}\n",
        "$"
      ]
    },
    {
      "cell_type": "code",
      "execution_count": null,
      "metadata": {
        "id": "PFte-inz2HXC"
      },
      "outputs": [],
      "source": [
        "choice=\"EX2\""
      ]
    },
    {
      "cell_type": "code",
      "execution_count": null,
      "metadata": {
        "id": "y-UDoY_OLer6"
      },
      "outputs": [],
      "source": [
        "if choice==\"EX1\":\n",
        "  c=np.array([5,3])\n",
        "  A=np.array([[2,1],[1,1],[3,2]])\n",
        "  b=np.array([20,16,35])\n",
        "  x1_bounds=(0,None)\n",
        "  x2_bounds=(0,None)\n",
        "elif choice==\"EX2\":\n",
        "  c=np.array([5,6])\n",
        "  A=np.array([[-1,-2],[-6,-4],[1,0]])\n",
        "  b=np.array([-8,-36,7])\n",
        "  x1_bounds=(0,None)\n",
        "  x2_bounds=(0,None)\n",
        "else:\n",
        "  c=np.array([1,1])\n",
        "  A=np.array([[1,-3],[2,3]])\n",
        "  b=np.array([4,17])\n",
        "  x1_bounds=(0,None)\n",
        "  x2_bounds=(0,None)"
      ]
    },
    {
      "attachments": {},
      "cell_type": "markdown",
      "metadata": {
        "id": "ZIsx9gV2STAh"
      },
      "source": [
        "GILP chokes on unbounded problems. Did not take the time to investigate so i skipped EX2 and plot the region at the end of the notebook using matplotlib"
      ]
    },
    {
      "cell_type": "code",
      "execution_count": null,
      "metadata": {
        "id": "WfcrOa9qNS7l"
      },
      "outputs": [],
      "source": [
        "if choice!=\"EX2\":\n",
        "  lp=LP(A,b,c)\n",
        "  simplex_visual(lp).show()"
      ]
    },
    {
      "attachments": {},
      "cell_type": "markdown",
      "metadata": {
        "id": "ILXhYHcLSiHQ"
      },
      "source": [
        "For EX2 there is no maximum since it is unbounded. Find the minimum"
      ]
    },
    {
      "cell_type": "code",
      "execution_count": null,
      "metadata": {
        "id": "dFCYi-g4IcuA"
      },
      "outputs": [],
      "source": [
        "# linprog computes the min. If we want to maximize we minimize the negative\n",
        "if choice !=\"EX2\":\n",
        "  c=[-x for x in c]\n",
        "\n",
        "res=linprog(c,A,b,bounds=[x1_bounds,x2_bounds])"
      ]
    },
    {
      "cell_type": "code",
      "execution_count": null,
      "metadata": {
        "colab": {
          "base_uri": "https://localhost:8080/"
        },
        "id": "8_tvz2T_KztB",
        "outputId": "6a80a969-ed8f-41c3-e08c-0eeac4de329c"
      },
      "outputs": [
        {
          "name": "stdout",
          "output_type": "stream",
          "text": [
            "optimal value is 34.0 for [5.  1.5]\n"
          ]
        }
      ],
      "source": [
        "print(\"optimal value is {} for {}\".format(res.fun,res.x))"
      ]
    },
    {
      "attachments": {},
      "cell_type": "markdown",
      "metadata": {
        "id": "nAcFNVqfQb9H"
      },
      "source": [
        "Plot the feasible region for the unbounded problem (EX2)"
      ]
    },
    {
      "cell_type": "code",
      "execution_count": null,
      "metadata": {
        "colab": {
          "base_uri": "https://localhost:8080/",
          "height": 435
        },
        "id": "YWc1sjMbZikT",
        "outputId": "43c338ee-beff-4a6b-c984-c3fcda2f5f46"
      },
      "outputs": [
        {
          "data": {
            "image/png": "[encoded data removed]",
            "text/plain": [
              "<Figure size 640x480 with 1 Axes>"
            ]
          },
          "metadata": {},
          "output_type": "display_data"
        }
      ],
      "source": [
        "if choice==\"EX2\":\n",
        "  d = np.linspace(0,16,300)\n",
        "  x,y = np.meshgrid(d,d)\n",
        "  plt.imshow( ((x<=7) & (2*y>=8-x) & (4*y>=-6*x+36) ).astype(int) , \n",
        "                extent=(x.min(),x.max(),y.min(),y.max()),origin=\"lower\", cmap=\"Reds\", alpha = 0.2);\n",
        "  x = np.linspace(0, 10, 500)\n",
        "  y= np.linspace(0, 16, 500)\n",
        "  y1=[7 for z in x]\n",
        "  y2=4-x/2\n",
        "  y3=9-3*x/2\n",
        "  plt.plot(y1,y)  \n",
        "  plt.plot(x,y2)\n",
        "  plt.plot(x,y3)\n",
        "  plt.xlim(0,10)\n",
        "  plt.ylim(0,16)\n"
      ]
    },
    {
      "cell_type": "code",
      "execution_count": null,
      "metadata": {
        "id": "n3Bc-p0haLb0"
      },
      "outputs": [],
      "source": []
    }
  ],
  "metadata": {
    "colab": {
      "authorship_tag": "ABX9TyNTIt+36/eKH/OXYBqe6UoE",
      "include_colab_link": true,
      "provenance": []
    },
    "kernelspec": {
      "display_name": "Python 3",
      "name": "python3"
    },
    "language_info": {
      "name": "python"
    }
  },
  "nbformat": 4,
  "nbformat_minor": 0
}
