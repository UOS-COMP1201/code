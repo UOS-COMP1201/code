{
  "cells": [
    {
      "cell_type": "markdown",
      "metadata": {
        "id": "UiZekZw53aMT"
      },
      "source": [
        "<a href=\"https://colab.research.google.com/github/UOS-COMP1201/code/blob/main/integerprogramming.ipynb\" target=\"_parent\"><img src=\"https://colab.research.google.com/assets/colab-badge.svg\" alt=\"Open In Colab\"/></a>"
      ]
    },
    {
      "cell_type": "code",
      "execution_count": 1,
      "metadata": {
        "id": "k3fLTsDW3aMU"
      },
      "outputs": [],
      "source": [
        "## Python implementation of questions 5&6 in tutorial 11\n",
        "## follow the \"open in Colab\" link to run the code in Google Colab\n",
        "import numpy as np\n",
        "from scipy.optimize import linprog\n",
        "import copy"
      ]
    },
    {
      "cell_type": "code",
      "execution_count": 2,
      "metadata": {},
      "outputs": [],
      "source": [
        "def IP(c,A,b,bounds,depth):\n",
        "  global min_val,min_vars,DEBUG\n",
        "  res=linprog(c,A,b,bounds=bounds)\n",
        "  if res.fun == None:\n",
        "    if DEBUG:\n",
        "      print(\"pruned by infeasibility, depth {}\".format(depth))\n",
        "    return \n",
        "  if res.fun>min_val:\n",
        "    if DEBUG:\n",
        "      print(res.fun,res.x)\n",
        "      print(\"pruned by bound, depth {}\".format(depth))\n",
        "    return \n",
        "  result=res.fun\n",
        "  # at this point result<min_val\n",
        "  if DEBUG: print(result,res.x)\n",
        "  int_sol=True\n",
        "  for var in res.x:\n",
        "    if np.floor(var)!=np.ceil(var):\n",
        "      int_sol=False\n",
        "      break\n",
        "  if  int_sol:\n",
        "        min_val=result\n",
        "        min_vars=res.x\n",
        "        return\n",
        "  # not all variables are integers\n",
        "  # if a variable is not int branch on ceil and floor      \n",
        "  for i,var in enumerate(res.x):\n",
        "    fl=np.floor(var)\n",
        "    cl=np.ceil(var)\n",
        "    \n",
        "    if fl!=cl:\n",
        "      if DEBUG: print(\"branching on {} {} , depth {}\".format(fl,cl,depth))\n",
        "      # bounds is an array of pairs\n",
        "      tmp=copy.deepcopy(bounds)\n",
        "      # include the ceiling constraint and recurse\n",
        "      tmp[i]=(cl,tmp[i][1])\n",
        "      IP(c,A,b,tmp,depth+1)\n",
        "      # include the floor constraint and recurse\n",
        "      tmp=copy.deepcopy(bounds)\n",
        "      tmp[i]=(tmp[i][0],fl)\n",
        "      IP(c,A,b,tmp,depth+1)\n",
        "   \n",
        "  \n",
        "  #return res.fun,res.x"
      ]
    },
    {
      "cell_type": "code",
      "execution_count": 3,
      "metadata": {
        "colab": {
          "base_uri": "https://localhost:8080/"
        },
        "id": "Vyh1yo5L3aMV",
        "outputId": "98362d35-8b7d-4023-f581-406d4b53f3f9"
      },
      "outputs": [],
      "source": [
        "\n",
        "c=np.array([4,5])\n",
        "A=np.array([[1,4],[3,-4]])  \n",
        "b=np.array([101,70])\n",
        "# the solver minimises the objective function\n",
        "# so we need to negate the objective function to maximise it\n",
        "c=[-x for x in c]\n",
        "\n",
        "bounds=[(0,None) for i in range(len(c))]    \n",
        "min_val=np.inf\n",
        "min_vars=None\n",
        "DEBUG=False\n",
        "\n",
        "r=IP(c,A,b,bounds,0)\n"
      ]
    },
    {
      "cell_type": "code",
      "execution_count": 4,
      "metadata": {
        "id": "oJVlII0-O2Bt"
      },
      "outputs": [
        {
          "name": "stdout",
          "output_type": "stream",
          "text": [
            "239.0\n",
            "[41. 15.]\n"
          ]
        }
      ],
      "source": [
        "print(-min_val)\n",
        "print(min_vars)"
      ]
    },
    {
      "cell_type": "markdown",
      "metadata": {},
      "source": [
        "### Vertex cover"
      ]
    },
    {
      "cell_type": "code",
      "execution_count": 5,
      "metadata": {},
      "outputs": [],
      "source": [
        "c=np.array([2,2,7,2,2.])\n",
        "\n",
        "b=np.array([-1,-1,-1,-1,-1,-1])\n",
        "A=np.array([[-1,-1,0,0,0],[-1,0,-1,0,0],[-1,0,0,-1,0],[0,-1,-1,0,0],[0,0,-1,-1,0],[0,0,-1,0,-1]  ])\n",
        "bounds=[(0,None) for i in range(len(c))]    "
      ]
    },
    {
      "cell_type": "code",
      "execution_count": 6,
      "metadata": {},
      "outputs": [],
      "source": [
        "min_val=np.inf\n",
        "min_vars=None\n",
        "DEBUG=False\n",
        "r=IP(c,A,b,bounds,0)"
      ]
    },
    {
      "cell_type": "code",
      "execution_count": 7,
      "metadata": {},
      "outputs": [
        {
          "name": "stdout",
          "output_type": "stream",
          "text": [
            "8.0\n",
            "[1. 1. 0. 1. 1.]\n"
          ]
        }
      ],
      "source": [
        "print(min_val)\n",
        "print(min_vars)"
      ]
    }
  ],
  "metadata": {
    "colab": {
      "provenance": []
    },
    "kernelspec": {
      "display_name": "Python 3",
      "language": "python",
      "name": "python3"
    },
    "language_info": {
      "codemirror_mode": {
        "name": "ipython",
        "version": 3
      },
      "file_extension": ".py",
      "mimetype": "text/x-python",
      "name": "python",
      "nbconvert_exporter": "python",
      "pygments_lexer": "ipython3",
      "version": "3.11.5"
    },
    "orig_nbformat": 4
  },
  "nbformat": 4,
  "nbformat_minor": 0
}
