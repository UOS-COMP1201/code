{
  "cells": [
    {
      "cell_type": "markdown",
      "metadata": {
        "id": "UiZekZw53aMT"
      },
      "source": [
        "<a href=\"https://colab.research.google.com/github/UOS-COMP1201/code/blob/main/integerprogramming.ipynb\" target=\"_parent\"><img src=\"https://colab.research.google.com/assets/colab-badge.svg\" alt=\"Open In Colab\"/></a>"
      ]
    },
    {
      "cell_type": "code",
      "execution_count": 1,
      "metadata": {
        "id": "k3fLTsDW3aMU"
      },
      "outputs": [],
      "source": [
        "\n",
        "import numpy as np\n",
        "from scipy.optimize import linprog\n",
        "import matplotlib.pyplot as plt"
      ]
    },
    {
      "cell_type": "code",
      "execution_count": 2,
      "metadata": {
        "id": "oXkbNm5S3aMU"
      },
      "outputs": [],
      "source": [
        "\n",
        "c=np.array([4,5])\n",
        "A=np.array([[1,4],[3,-4]])\n",
        "#b=np.array([10,6])\n",
        "#b=np.array([90,60])\n",
        "#b=np.array([80,70])     \n",
        "b=np.array([101,70])\n",
        "x1_bounds=(0,None)\n",
        "x2_bounds=(0,None)"
      ]
    },
    {
      "cell_type": "code",
      "execution_count": 13,
      "metadata": {
        "id": "FtrPQANd3aMV"
      },
      "outputs": [],
      "source": [
        "\n",
        "import copy\n",
        "max=0\n",
        "\n",
        "def IP(c,A,b,bounds,depth):\n",
        "  global max\n",
        "  res=linprog(c,A,b,bounds=bounds)\n",
        "  if res.fun == None:\n",
        "    print(\"pruned by infeasibility depth {}\".format(depth))\n",
        "    return \n",
        "  if -res.fun<max:\n",
        "    print(-res.fun,res.x)\n",
        "    print(\"pruned by bound depth {}\".format(depth))\n",
        "    return \n",
        "  result=-res.fun\n",
        "  # at this point result>max\n",
        "  print(result,res.x)\n",
        "  int_sol=True\n",
        "  for var in res.x:\n",
        "    if np.floor(var)!=np.ceil(var):\n",
        "      int_sol=False\n",
        "      break\n",
        "  if  int_sol:\n",
        "        max=result\n",
        "        return\n",
        "  # not all variables are integers, branch      \n",
        "  for i,var in enumerate(res.x):\n",
        "    fl=np.floor(var)\n",
        "    cl=np.ceil(var)\n",
        "    \n",
        "    if fl!=cl:\n",
        "      print(\"branching on {} {} depth {}\".format(fl,cl,depth))\n",
        "      tmp=copy.deepcopy(bounds)\n",
        "      tmp[i]=(cl,tmp[i][1])\n",
        "      IP(c,A,b,tmp,depth+1)\n",
        "      tmp=copy.deepcopy(bounds)\n",
        "      tmp[i]=(tmp[i][0],fl)\n",
        "      IP(c,A,b,tmp,depth+1)\n",
        "   \n",
        "\n",
        "  return res.fun,res.x"
      ]
    },
    {
      "cell_type": "code",
      "execution_count": 14,
      "metadata": {
        "id": "Vyh1yo5L3aMV",
        "outputId": "98362d35-8b7d-4023-f581-406d4b53f3f9",
        "colab": {
          "base_uri": "https://localhost:8080/"
        }
      },
      "outputs": [
        {
          "output_type": "stream",
          "name": "stdout",
          "text": [
            "243.8125 [42.75   14.5625]\n",
            "branching on 42.0 43.0 depth 0\n",
            "pruned by infeasibility depth 1\n",
            "241.75 [42.   14.75]\n",
            "branching on 14.0 15.0 depth 1\n",
            "239.0 [41. 15.]\n",
            "238.0 [42. 14.]\n",
            "pruned by bound depth 2\n",
            "branching on 14.0 15.0 depth 0\n",
            "239.0 [41. 15.]\n",
            "238.0 [42. 14.]\n",
            "pruned by bound depth 1\n"
          ]
        }
      ],
      "source": [
        "\n",
        "c=[-x for x in c]\n",
        "r=IP(c,A,b,[x1_bounds,x2_bounds],0)\n"
      ]
    },
    {
      "cell_type": "code",
      "source": [],
      "metadata": {
        "id": "oJVlII0-O2Bt"
      },
      "execution_count": null,
      "outputs": []
    }
  ],
  "metadata": {
    "kernelspec": {
      "display_name": "Python 3",
      "language": "python",
      "name": "python3"
    },
    "language_info": {
      "codemirror_mode": {
        "name": "ipython",
        "version": 3
      },
      "file_extension": ".py",
      "mimetype": "text/x-python",
      "name": "python",
      "nbconvert_exporter": "python",
      "pygments_lexer": "ipython3",
      "version": "3.10.11"
    },
    "orig_nbformat": 4,
    "colab": {
      "provenance": []
    }
  },
  "nbformat": 4,
  "nbformat_minor": 0
}