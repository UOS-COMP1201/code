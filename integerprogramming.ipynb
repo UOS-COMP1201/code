{
 "cells": [
  {
   "attachments": {},
   "cell_type": "markdown",
   "metadata": {},
   "source": [
    "<a href=\"https://colab.research.google.com/github/UOS-COMP1201/code/blob/main/integerprogramming.ipynb\" target=\"_parent\"><img src=\"https://colab.research.google.com/assets/colab-badge.svg\" alt=\"Open In Colab\"/></a>"
   ]
  },
  {
   "cell_type": "code",
   "execution_count": 5,
   "metadata": {},
   "outputs": [],
   "source": [
    "\n",
    "import numpy as np\n",
    "from scipy.optimize import linprog\n",
    "import matplotlib.pyplot as plt"
   ]
  },
  {
   "cell_type": "code",
   "execution_count": 6,
   "metadata": {},
   "outputs": [],
   "source": [
    "\n",
    "c=np.array([4,5])\n",
    "A=np.array([[1,4],[3,-4]])\n",
    "#b=np.array([10,6])\n",
    "#b=np.array([90,60])\n",
    "#b=np.array([80,70])     \n",
    "b=np.array([101,70])\n",
    "x1_bounds=(0,None)\n",
    "x2_bounds=(0,None)"
   ]
  },
  {
   "cell_type": "code",
   "execution_count": 7,
   "metadata": {},
   "outputs": [],
   "source": [
    "\n",
    "import copy\n",
    "max=0\n",
    "\n",
    "def IP(c,A,b,bounds):\n",
    "  global max\n",
    "  res=linprog(c,A,b,bounds=bounds)\n",
    "  if res.fun == None:\n",
    "    print(\"pruned by infeasibility\")\n",
    "    return \n",
    "  if -res.fun<max:\n",
    "    print(-res.fun,res.x)\n",
    "    print(\"pruned by bound\")\n",
    "    return \n",
    "  result=-res.fun\n",
    "  # at this point result>max\n",
    "  print(result,res.x)\n",
    "  int_sol=True\n",
    "  for var in res.x:\n",
    "    if np.floor(var)!=np.ceil(var):\n",
    "      int_sol=False\n",
    "      break\n",
    "  if  int_sol:\n",
    "        max=result\n",
    "        return\n",
    "  # not all variables are integers, branch      \n",
    "  for i,var in enumerate(res.x):\n",
    "    fl=np.floor(var)\n",
    "    cl=np.ceil(var)\n",
    "    \n",
    "    if fl!=cl:\n",
    "      print(\"               \",fl,cl)\n",
    "      tmp=copy.deepcopy(bounds)\n",
    "      tmp[i]=(cl,tmp[i][1])\n",
    "      #r1=linprog(c,A,b,bounds=bounds)\n",
    "      IP(c,A,b,tmp)\n",
    "      #print(r1.fun)\n",
    "      tmp=copy.deepcopy(bounds)\n",
    "      tmp[i]=(tmp[i][0],fl)\n",
    "      #r2=linprog(c,A,b,bounds=bounds)\n",
    "\n",
    "      IP(c,A,b,tmp)\n",
    "      #print(r2.fun)\n",
    "   \n",
    "\n",
    "  return res.fun,res.x"
   ]
  },
  {
   "cell_type": "code",
   "execution_count": 8,
   "metadata": {},
   "outputs": [
    {
     "name": "stdout",
     "output_type": "stream",
     "text": [
      "243.8125 [42.75   14.5625]\n",
      "                42.0 43.0\n",
      "pruned by infeasibility\n",
      "241.75 [42.   14.75]\n",
      "                14.0 15.0\n",
      "239.0 [41. 15.]\n",
      "238.0 [42. 14.]\n",
      "pruned by bound\n",
      "                14.0 15.0\n",
      "239.0 [41. 15.]\n",
      "238.0 [42. 14.]\n",
      "pruned by bound\n"
     ]
    }
   ],
   "source": [
    "\n",
    "c=[-x for x in c]\n",
    "r=IP(c,A,b,[x1_bounds,x2_bounds])\n"
   ]
  }
 ],
 "metadata": {
  "kernelspec": {
   "display_name": "Python 3",
   "language": "python",
   "name": "python3"
  },
  "language_info": {
   "codemirror_mode": {
    "name": "ipython",
    "version": 3
   },
   "file_extension": ".py",
   "mimetype": "text/x-python",
   "name": "python",
   "nbconvert_exporter": "python",
   "pygments_lexer": "ipython3",
   "version": "3.10.11"
  },
  "orig_nbformat": 4
 },
 "nbformat": 4,
 "nbformat_minor": 2
}
