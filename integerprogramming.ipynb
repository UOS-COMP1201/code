{
  "cells": [
    {
      "cell_type": "markdown",
      "metadata": {
        "id": "UiZekZw53aMT"
      },
      "source": [
        "<a href=\"https://colab.research.google.com/gist/hikmatfarhat-ndu/528d32ca70c430f703e5c83a49cb07c0/integerprogramming.ipynb\" target=\"_parent\"><img src=\"https://colab.research.google.com/assets/colab-badge.svg\" alt=\"Open In Colab\"/></a>"
      ]
    },
    {
      "cell_type": "code",
      "execution_count": 1,
      "metadata": {
        "id": "k3fLTsDW3aMU"
      },
      "outputs": [],
      "source": [
        "## Python implementation of branch and bound for Integer programming\n",
        "## The first application is the example for knapsack in the lectures\n",
        "## and then questions 5&6 in tutorial 11\n",
        "## A branch and bound algorithm for solving the integer linear programming problem\n",
        "## using the linear programming solver in scipy\n",
        "## Note: we can solve the ILP directly using the scipy.optimize.linprog function\n",
        "## by specifying which variables must be integers using the integrality parameter\n",
        "#\n",
        "#linprog(c, A, b, bounds,integrality=[1, 1]) specifies that the first two variables must be integers\n",
        "#\n",
        "## follow the \"open in Colab\" link to run the code in Google Colab\n",
        "import numpy as np\n",
        "from scipy.optimize import linprog\n",
        "import copy"
      ]
    },
    {
      "cell_type": "code",
      "execution_count": 15,
      "metadata": {
        "id": "RYfZTNWXI_Ju"
      },
      "outputs": [],
      "source": [
        "def IP(c,A,b,bounds,depth):\n",
        "  global min_val,min_vars,DEBUG\n",
        "  res=linprog(c,A,b,bounds=bounds)\n",
        "  if res.fun == None:\n",
        "    if DEBUG:\n",
        "      print(\"pruned by infeasibility, depth {}\".format(depth))\n",
        "    return\n",
        "  if res.fun>min_val:\n",
        "    if DEBUG:\n",
        "      print(res.fun,res.x)\n",
        "      print(\"pruned by bound, depth {}\".format(depth))\n",
        "    return\n",
        "  result=res.fun\n",
        "  # at this point result<min_val\n",
        "  if DEBUG: print(result,res.x)\n",
        "  int_sol=True\n",
        "  for var in res.x:\n",
        "    if np.floor(var)!=np.ceil(var):\n",
        "      int_sol=False\n",
        "      break\n",
        "  if  int_sol:\n",
        "        min_val=result\n",
        "        min_vars=res.x\n",
        "        return\n",
        "  # not all variables are integers\n",
        "  # if a variable is not int branch on ceil and floor\n",
        "  for i,var in enumerate(res.x):\n",
        "    fl=np.floor(var)\n",
        "    cl=np.ceil(var)\n",
        "\n",
        "    if fl!=cl:\n",
        "      if DEBUG: print(\"branching on  varIdx={}, with values {} {}, depth {}\".format(i,fl,cl,depth))\n",
        "      # bounds is an array of pairs\n",
        "      tmp=copy.deepcopy(bounds)\n",
        "      # include the ceiling constraint and recurse\n",
        "      tmp[i]=(cl,tmp[i][1])\n",
        "      IP(c,A,b,tmp,depth+1)\n",
        "      # include the floor constraint and recurse\n",
        "      tmp=copy.deepcopy(bounds)\n",
        "      tmp[i]=(tmp[i][0],fl)\n",
        "      IP(c,A,b,tmp,depth+1)\n",
        "\n",
        "\n",
        "  #return res.fun,res.x"
      ]
    },
    {
      "cell_type": "code",
      "execution_count": 13,
      "metadata": {
        "id": "Vyh1yo5L3aMV"
      },
      "outputs": [],
      "source": [
        "\n",
        "c=np.array([4,5])\n",
        "A=np.array([[1,4],[3,-4]])\n",
        "b=np.array([101,70])\n",
        "# the solver minimises the objective function\n",
        "# so we need to negate the objective function to maximise it\n",
        "c=[-x for x in c]\n",
        "\n",
        "bounds=[(0,None) for i in range(len(c))]\n",
        "min_val=np.inf\n",
        "min_vars=None\n",
        "DEBUG=False\n",
        "\n",
        "IP(c,A,b,bounds,0)\n"
      ]
    },
    {
      "cell_type": "code",
      "execution_count": 4,
      "metadata": {
        "id": "oJVlII0-O2Bt",
        "outputId": "c6e959aa-5383-41d6-f7e7-e57b5f2fd45d",
        "colab": {
          "base_uri": "https://localhost:8080/"
        }
      },
      "outputs": [
        {
          "output_type": "stream",
          "name": "stdout",
          "text": [
            "239.0\n",
            "[41. 15.]\n"
          ]
        }
      ],
      "source": [
        "print(-min_val)\n",
        "print(min_vars)"
      ]
    },
    {
      "cell_type": "markdown",
      "metadata": {
        "id": "CSX2VLkFI_Jv"
      },
      "source": [
        "### Vertex cover\n",
        "\n",
        "Consult the figure of the graph in Tutorial 11"
      ]
    },
    {
      "cell_type": "code",
      "execution_count": 5,
      "metadata": {
        "id": "AMwTmPFjI_Jv"
      },
      "outputs": [],
      "source": [
        "c=np.array([2,2,7,2,2.])\n",
        "\n",
        "b=np.array([-1,-1,-1,-1,-1,-1])\n",
        "A=np.array([[-1,-1,0,0,0],[-1,0,-1,0,0],[-1,0,0,-1,0],[0,-1,-1,0,0],[0,0,-1,-1,0],[0,0,-1,0,-1]  ])\n",
        "bounds=[(0,None) for i in range(len(c))]"
      ]
    },
    {
      "cell_type": "code",
      "execution_count": 6,
      "metadata": {
        "id": "hSzn8ZdbI_Jw"
      },
      "outputs": [],
      "source": [
        "min_val=np.inf\n",
        "min_vars=None\n",
        "# first solve the LP relaxation\n",
        "res=linprog(c,A,b,bounds=bounds)\n",
        "DEBUG=False\n",
        "IP(c,A,b,bounds,0)"
      ]
    },
    {
      "cell_type": "code",
      "execution_count": 7,
      "metadata": {
        "id": "7426gho-I_Jw",
        "outputId": "4f7e6229-d1c1-4f29-a1d1-f6970db5c380",
        "colab": {
          "base_uri": "https://localhost:8080/"
        }
      },
      "outputs": [
        {
          "output_type": "stream",
          "name": "stdout",
          "text": [
            "LP relaxation solution obj/vars 7.5/[0.5 0.5 0.5 0.5 0.5]\n",
            "BB solution for ILP obj/vars 8.0/[1. 1. 0. 1. 1.]\n"
          ]
        }
      ],
      "source": [
        "print(f'LP relaxation solution obj/vars {res.fun}/{res.x}')\n",
        "print(f'BB solution for ILP obj/vars {min_val}/{min_vars}')"
      ]
    },
    {
      "cell_type": "markdown",
      "source": [
        "### Knapsack\n",
        "\n",
        "Knapsack instance presented in branch and bound lecture"
      ],
      "metadata": {
        "id": "1rI7D9cPgE7w"
      }
    },
    {
      "cell_type": "code",
      "source": [
        "c=np.array([9,6,4,9])\n",
        "# the solver minimises, we need maximisation\n",
        "c=[-x for x in c]\n",
        "# weights\n",
        "A=np.array([[6,2,3,2]])\n",
        "# knapsack capacity\n",
        "b=np.array([8])\n",
        "bounds=[(0,1) for i in range(len(c))]\n",
        "min_val=np.inf\n",
        "min_vars=None\n",
        "#first solve the LP relaxation\n",
        "#print(\"---------------\")\n",
        "#print(f'weights {A[0]}')\n",
        "#print(f'values {c}')\n",
        "res=linprog(c,A,b,bounds=bounds)\n",
        "#print(f'relax {res.fun}, {res.x}')\n",
        "#print(res.fun,res.x)\n",
        "DEBUG=True\n",
        "IP(c,A,b,bounds,0)\n",
        "#print(f'int {min_val}/{min_vars}')"
      ],
      "metadata": {
        "colab": {
          "base_uri": "https://localhost:8080/"
        },
        "id": "tCuRGugjg80c",
        "outputId": "bfb5cc64-ee58-47a7-fd23-a5946f27a484"
      },
      "execution_count": 17,
      "outputs": [
        {
          "output_type": "stream",
          "name": "stdout",
          "text": [
            "-21.0 [0.66666667 1.         0.         1.        ]\n",
            "branching on  varIdx=0, with values 0.0 1.0, depth 0\n",
            "-18.0 [1. 0. 0. 1.]\n",
            "-19.0 [0. 1. 1. 1.]\n"
          ]
        }
      ]
    },
    {
      "cell_type": "code",
      "source": [],
      "metadata": {
        "id": "a05C4J_Ul8Mg"
      },
      "execution_count": 8,
      "outputs": []
    }
  ],
  "metadata": {
    "colab": {
      "provenance": []
    },
    "kernelspec": {
      "display_name": "Python 3",
      "language": "python",
      "name": "python3"
    },
    "language_info": {
      "codemirror_mode": {
        "name": "ipython",
        "version": 3
      },
      "file_extension": ".py",
      "mimetype": "text/x-python",
      "name": "python",
      "nbconvert_exporter": "python",
      "pygments_lexer": "ipython3",
      "version": "3.11.5"
    },
    "orig_nbformat": 4
  },
  "nbformat": 4,
  "nbformat_minor": 0
}