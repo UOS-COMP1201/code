{
  "cells": [
    {
      "attachments": {},
      "cell_type": "markdown",
      "metadata": {},
      "source": [
        "<a href=\"https://colab.research.google.com/github/UOS-COMP1201/code/blob/main/lp-solver.ipynb\" target=\"_parent\"><img src=\"https://colab.research.google.com/assets/colab-badge.svg\" alt=\"Open In Colab\"/></a>"
      ]
    },
    {
      "cell_type": "code",
      "execution_count": 5,
      "metadata": {
        "id": "-ui9nDmOIY3R"
      },
      "outputs": [],
      "source": [
        "import numpy as np\n",
        "from scipy.optimize import linprog"
      ]
    },
    {
      "attachments": {},
      "cell_type": "markdown",
      "metadata": {
        "id": "mgC3dn9xNC01"
      },
      "source": [
        "Example:\n",
        "maximize $5x_1+3x_2$ subject to\n",
        "\n",
        "$$ \\begin{align*}\n",
        "    2x_1+x_2\\le 20\\\\\n",
        "    x_1+x_2\\le 16\\\\\n",
        "    3x_1+2x_2\\le 35\n",
        "\\end{align*}\n",
        " $$"
      ]
    },
    {
      "cell_type": "code",
      "execution_count": 6,
      "metadata": {
        "id": "y-UDoY_OLer6"
      },
      "outputs": [],
      "source": [
        "\n",
        "c=np.array([5,3])\n",
        "A=np.array([[2,1],[1,1],[3,2]])\n",
        "b=np.array([20,16,35])\n",
        "x1_bounds=(0,None)\n",
        "x2_bounds=(0,None)"
      ]
    },
    {
      "cell_type": "code",
      "execution_count": 7,
      "metadata": {
        "id": "dFCYi-g4IcuA"
      },
      "outputs": [],
      "source": [
        "# linprog computes the min. If we want to maximize we minimize the negative\n",
        "c=[-x for x in c]\n",
        "\n",
        "res=linprog(c,A,b,bounds=[x1_bounds,x2_bounds])"
      ]
    },
    {
      "cell_type": "code",
      "execution_count": 8,
      "metadata": {
        "colab": {
          "base_uri": "https://localhost:8080/"
        },
        "id": "8_tvz2T_KztB",
        "outputId": "ce4dc345-a5e3-4ee0-c3d0-72e277e8b9d2"
      },
      "outputs": [
        {
          "name": "stdout",
          "output_type": "stream",
          "text": [
            "optimal value is -55.0 for [ 5. 10.]\n"
          ]
        }
      ],
      "source": [
        "print(\"optimal value is {} for {}\".format(res.fun,res.x))"
      ]
    }
  ],
  "metadata": {
    "colab": {
      "provenance": []
    },
    "kernelspec": {
      "display_name": "Python 3",
      "name": "python3"
    },
    "language_info": {
      "codemirror_mode": {
        "name": "ipython",
        "version": 3
      },
      "file_extension": ".py",
      "mimetype": "text/x-python",
      "name": "python",
      "nbconvert_exporter": "python",
      "pygments_lexer": "ipython3",
      "version": "3.11.5"
    }
  },
  "nbformat": 4,
  "nbformat_minor": 0
}
