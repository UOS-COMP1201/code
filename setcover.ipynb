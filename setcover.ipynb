{
  "cells": [
    {
      "cell_type": "markdown",
      "metadata": {
        "id": "btpUQqPebhdR"
      },
      "source": [
        "<a href=\"https://colab.research.google.com/github/UOS-COMP1201/code/blob/main/setcover.ipynb\" target=\"_parent\"><img src=\"https://colab.research.google.com/assets/colab-badge.svg\" alt=\"Open In Colab\"/></a>"
      ]
    },
    {
      "cell_type": "code",
      "execution_count": 85,
      "metadata": {
        "id": "-ui9nDmOIY3R",
        "outputId": "48e60b90-815a-4923-c025-9bd23522b346",
        "colab": {
          "base_uri": "https://localhost:8080/"
        }
      },
      "outputs": [
        {
          "output_type": "stream",
          "name": "stdout",
          "text": [
            "[3 3 2 3 1]\n",
            "optimal value is 5.5 for [0.  0.5 1.  0.5 0.5]\n",
            "[0.  0.5 1.  0.5 0.5]\n"
          ]
        }
      ],
      "source": [
        "\n",
        "import numpy as np\n",
        "from scipy.optimize import linprog\n",
        "c=np.array([1,2,2,1,1])# exact\n",
        "c=np.array([1,1,2,1,1])# all subsets included\n",
        "c=np.array([3,3,2,3,1])# approx that includes 4 subsets\n",
        "#c=np.random.randint(1,4,5 )\n",
        "print(c)\n",
        "A=np.array([[-1,0,0,-1,-1],[0,-1,0,-1,0],[-1,-1,-1,0,-1],[-1,0,-1,0,0],[0,0,-1,-1,0],[0,-1,0,0,-1]])\n",
        "b=np.array([-1,-1,-1,-1,-1,-1])\n",
        "x1_bounds=(0,None)\n",
        "x2_bounds=(0,None)\n",
        "x3_bounds=(0,None)\n",
        "x4_bounds=(0,None)\n",
        "x5_bounds=(0,None)\n",
        "res=linprog(c,A,b,bounds=[x1_bounds,x2_bounds,x3_bounds,x4_bounds,x5_bounds])\n",
        "print(\"optimal value is {} for {}\".format(res.fun,res.x))\n",
        "print(res.x)\n"
      ]
    },
    {
      "cell_type": "code",
      "source": [],
      "metadata": {
        "id": "E4KFgAiDRBxr"
      },
      "execution_count": null,
      "outputs": []
    }
  ],
  "metadata": {
    "colab": {
      "provenance": []
    },
    "kernelspec": {
      "display_name": "Python 3",
      "name": "python3"
    },
    "language_info": {
      "codemirror_mode": {
        "name": "ipython",
        "version": 3
      },
      "file_extension": ".py",
      "mimetype": "text/x-python",
      "name": "python",
      "nbconvert_exporter": "python",
      "pygments_lexer": "ipython3",
      "version": "3.9.11"
    }
  },
  "nbformat": 4,
  "nbformat_minor": 0
}