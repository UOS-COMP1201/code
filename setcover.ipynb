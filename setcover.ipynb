{
  "cells": [
    {
      "cell_type": "markdown",
      "metadata": {
        "id": "btpUQqPebhdR"
      },
      "source": [
        "<a href=\"https://colab.research.google.com/github/UOS-COMP1201/code/blob/main/setcover.ipynb\" target=\"_parent\"><img src=\"https://colab.research.google.com/assets/colab-badge.svg\" alt=\"Open In Colab\"/></a>"
      ]
    },
    {
      "cell_type": "code",
      "execution_count": 1,
      "metadata": {
        "id": "-ui9nDmOIY3R"
      },
      "outputs": [],
      "source": [
        "\n",
        "import numpy as np\n",
        "from scipy.optimize import linprog\n",
        "c=np.array([1,2,2,10])\n",
        "A=np.array([[-1,0,0,0],[0,-1,0,-1],[-1,0,-1,0],[-1,-1,-1,0],[0,0,-1,-1]])\n",
        "b=np.array([-1,-1,-1,-1,-1])\n",
        "x1_bounds=(0,None)\n",
        "x2_bounds=(0,None)\n",
        "x3_bounds=(0,None)\n",
        "x4_bounds=(0,None)\n",
        "res=linprog(c,A,b,bounds=[x1_bounds,x2_bounds,x3_bounds,x4_bounds])\n",
        "print(\"optimal value is {} for {}\".format(res.fun,res.x))\n"
      ]
    }
  ],
  "metadata": {
    "colab": {
      "provenance": []
    },
    "kernelspec": {
      "display_name": "Python 3",
      "name": "python3"
    },
    "language_info": {
      "codemirror_mode": {
        "name": "ipython",
        "version": 3
      },
      "file_extension": ".py",
      "mimetype": "text/x-python",
      "name": "python",
      "nbconvert_exporter": "python",
      "pygments_lexer": "ipython3",
      "version": "3.9.11"
    }
  },
  "nbformat": 4,
  "nbformat_minor": 0
}
