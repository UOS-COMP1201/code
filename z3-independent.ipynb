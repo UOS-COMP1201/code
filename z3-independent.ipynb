{
  "cells": [
    {
      "attachments": {},
      "cell_type": "markdown",
      "metadata": {
        "colab_type": "text",
        "id": "view-in-github"
      },
      "source": [
        "<a href=\"https://colab.research.google.com/github/UOS-COMP1201/code/blob/main/z3-independent.ipynb\" target=\"_parent\"><img src=\"https://colab.research.google.com/assets/colab-badge.svg\" alt=\"Open In Colab\"/></a>"
      ]
    },
    {
      "cell_type": "code",
      "execution_count": null,
      "metadata": {
        "colab": {
          "base_uri": "https://localhost:8080/"
        },
        "id": "QcjMlzQrTAQ-",
        "outputId": "0eb3bcc2-b003-4b9f-cc0f-235b13406aa4"
      },
      "outputs": [
        {
          "name": "stdout",
          "output_type": "stream",
          "text": [
            "Looking in indexes: https://pypi.org/simple, https://us-python.pkg.dev/colab-wheels/public/simple/\n",
            "Requirement already satisfied: z3-solver in /usr/local/lib/python3.10/dist-packages (4.12.1.0)\n"
          ]
        }
      ],
      "source": [
        "!pip install z3-solver"
      ]
    },
    {
      "cell_type": "code",
      "execution_count": null,
      "metadata": {
        "id": "4SeofBhlS83d"
      },
      "outputs": [],
      "source": [
        "import itertools\n",
        "import z3 "
      ]
    },
    {
      "attachments": {},
      "cell_type": "markdown",
      "metadata": {
        "id": "b9setku59h-z"
      },
      "source": [
        "![Capture.PNG](data:image/png;base64,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)"
      ]
    },
    {
      "attachments": {},
      "cell_type": "markdown",
      "metadata": {
        "id": "8hum10raS83d"
      },
      "source": [
        "The input is a description of the graph. First line has a number denoting the number of nodes. \n",
        "\n",
        "Then each pair of numbers denotes an edge.\n",
        "Note that we assume that the nodes are numbered from 0 to n-1"
      ]
    },
    {
      "cell_type": "code",
      "execution_count": null,
      "metadata": {
        "id": "OFCakz2STIa1"
      },
      "outputs": [],
      "source": [
        "## the desciption of the graph in the above figure\n",
        "n=9\n",
        "edges=[(0,1),(0, 4),(0,7),(1,2),(2,3),(2,4),(3,5),(3,6),(4,5),\n",
        "(4,8),(5,6),(5,7),(5,8),(6,7),(7,8)]"
      ]
    },
    {
      "attachments": {},
      "cell_type": "markdown",
      "metadata": {
        "id": "aPNW2zDuS83e"
      },
      "source": [
        "Next we create the z3 variables. In this exercise we are looking for an independent\n",
        "set of size 4 (variable k)"
      ]
    },
    {
      "cell_type": "code",
      "execution_count": null,
      "metadata": {
        "id": "aIr2k9CZS83f"
      },
      "outputs": [],
      "source": [
        "\n",
        "vars=[None]*n\n",
        "# create variables while making sure that we start with 1 instead of 0\n",
        "# to be compatible with the graph above\n",
        "for i in range(0,n):\n",
        "   vars[i]= z3.Bool(\"x\"+str(i+1))\n",
        "k=4\n",
        "comb=n-k+1"
      ]
    },
    {
      "attachments": {},
      "cell_type": "markdown",
      "metadata": {
        "id": "rlshqRdFS83f"
      },
      "source": [
        "We create the solver and add the clauses: all combinations of 4 variables with\n",
        "the constraint that no two variables representing connected nodes can be true\n",
        "at the same time"
      ]
    },
    {
      "cell_type": "code",
      "execution_count": null,
      "metadata": {
        "id": "YjO3vXB8S83f"
      },
      "outputs": [],
      "source": [
        "\n",
        "solver=z3.Solver()\n",
        "for c in itertools.combinations(vars,comb):\n",
        "   solver.add(z3.Or(c))\n",
        "for (s,e) in edges:\n",
        "   solver.add(z3.Or(z3.Not(vars[s]),z3.Not(vars[e])))\n"
      ]
    },
    {
      "cell_type": "code",
      "execution_count": null,
      "metadata": {
        "id": "nIXoY7J9_NAn"
      },
      "outputs": [],
      "source": []
    },
    {
      "attachments": {},
      "cell_type": "markdown",
      "metadata": {
        "id": "7iKQciYRS83f"
      },
      "source": [
        "Collect and print the results."
      ]
    },
    {
      "cell_type": "code",
      "execution_count": null,
      "metadata": {
        "colab": {
          "base_uri": "https://localhost:8080/"
        },
        "id": "v0Y-DNsoS83f",
        "outputId": "fcceeb46-ccca-47a3-c2af-39ba7377c163"
      },
      "outputs": [
        {
          "name": "stdout",
          "output_type": "stream",
          "text": [
            "Found an IS of size 4\n",
            "x2\n",
            "x4\n",
            "x5\n",
            "x8\n"
          ]
        }
      ],
      "source": [
        "if(solver.check()==z3.sat):\n",
        "    print(\"Found an IS of size {}\".format(k))\n",
        "    m=solver.model()\n",
        "    for d in m.decls():\n",
        "        if(m[d]==True):\n",
        "            print(d.name())\n",
        "\n",
        "else:\n",
        "   print(\"No IS of size {} exits\".format(k))\n"
      ]
    },
    {
      "attachments": {},
      "cell_type": "markdown",
      "metadata": {
        "id": "XHZsUPiEAGVy"
      },
      "source": [
        "### Other solutions\n",
        "\n",
        "- Is there another IS? \n",
        "- If so how can we find it?\n",
        "- Can be done by adding a constraint to ignore on vertex in the previous solution\n",
        "- e.g. x2 (i.e., var[1])"
      ]
    },
    {
      "cell_type": "code",
      "execution_count": null,
      "metadata": {
        "id": "A144KhPN-bcF"
      },
      "outputs": [],
      "source": [
        "\n",
        "solver=z3.Solver()\n",
        "for c in itertools.combinations(vars,comb):\n",
        "   solver.add(z3.Or(c))\n",
        "for (s,e) in edges:\n",
        "   solver.add(z3.Or(z3.Not(vars[s]),z3.Not(vars[e])))\n",
        "\n",
        "# the blow is added to force x2 NOT to be in the solution\n",
        "solver.add(z3.Not(vars[1]))"
      ]
    },
    {
      "cell_type": "code",
      "execution_count": null,
      "metadata": {
        "colab": {
          "base_uri": "https://localhost:8080/"
        },
        "id": "XvctxCY6TspG",
        "outputId": "87603222-7c94-4862-ab59-37a3f049256f"
      },
      "outputs": [
        {
          "name": "stdout",
          "output_type": "stream",
          "text": [
            "Found an IS of size 4\n",
            "x1\n",
            "x7\n",
            "x3\n",
            "x9\n"
          ]
        }
      ],
      "source": [
        "if(solver.check()==z3.sat):\n",
        "    print(\"Found an IS of size {}\".format(k))\n",
        "    m=solver.model()\n",
        "    for d in m.decls():\n",
        "        if(m[d]==True):\n",
        "            print(d.name())\n",
        "\n",
        "else:\n",
        "   print(\"No IS of size {} exits\".format(k))\n"
      ]
    }
  ],
  "metadata": {
    "colab": {
      "include_colab_link": true,
      "provenance": []
    },
    "file_extension": ".py",
    "kernelspec": {
      "display_name": "'Python Interactive'",
      "name": "28bd451f-2b86-42dc-97f3-79553a06e4b8"
    },
    "language_info": {
      "codemirror_mode": {
        "name": "ipython",
        "version": 3
      },
      "name": "python",
      "version": "3.6.8-final"
    },
    "mimetype": "text/x-python",
    "name": "python",
    "npconvert_exporter": "python",
    "orig_nbformat": 2,
    "pygments_lexer": "ipython3",
    "version": 3
  },
  "nbformat": 4,
  "nbformat_minor": 0
}
