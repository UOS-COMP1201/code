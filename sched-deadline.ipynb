{
 "cells": [
  {
   "attachments": {},
   "cell_type": "markdown",
   "metadata": {},
   "source": [
    "<a href=\"https://colab.research.google.com/github/UOS-COMP1201/code/blob/main/sched-deadline.ipynb\" target=\"_parent\"><img src=\"https://colab.research.google.com/assets/colab-badge.svg\" alt=\"Open In Colab\"/></a>"
   ]
  },
  {
   "cell_type": "code",
   "execution_count": 8,
   "metadata": {},
   "outputs": [],
   "source": [
    "# for each tuple, the first element is the task name, \n",
    "# the second is the duration\n",
    "# the third is the deadline, \n",
    "# the fourth is the profit\n",
    "tasks=[('A',3,8,100),('B',2,6,59),('C',1,9,40),\n",
    "       ('D',2,5,70),('E',4,10,101),('F',5,10,140)]"
   ]
  },
  {
   "cell_type": "code",
   "execution_count": 9,
   "metadata": {},
   "outputs": [
    {
     "name": "stdout",
     "output_type": "stream",
     "text": [
      "Optimal values\n",
      "[0, 0, 0, 0, 0, 0, 0, 0, 0, 0, 0]\n",
      "[0, 0, 70, 70, 70, 70, 70, 70, 70, 70, 70]\n",
      "[0, 0, 70, 70, 129, 129, 129, 129, 129, 129, 129]\n",
      "[0, 0, 70, 100, 129, 170, 170, 229, 229, 229, 229]\n",
      "[0, 40, 70, 110, 140, 170, 210, 229, 269, 269, 269]\n",
      "[0, 40, 70, 110, 140, 170, 210, 229, 269, 271, 311]\n",
      "[0, 40, 70, 110, 140, 170, 210, 229, 269, 280, 311]\n",
      "Optimal solution\n",
      "[('D', 2, 5, 70), ('A', 3, 8, 100), ('C', 1, 9, 40), ('E', 4, 10, 101)]\n"
     ]
    }
   ],
   "source": [
    "\n",
    "# sort by deadline\n",
    "tasks=sorted(tasks,key=lambda x:x[2])\n",
    "w=tasks[-1][2]\n",
    "\n",
    "# initialization\n",
    "n=len(tasks)\n",
    "opt=[ [0 for j in range(w+1)] for i in range(n+1)]\n",
    "\n",
    "def getOpt():\n",
    "# main loops\n",
    "  for i in range(1,n+1):\n",
    "    for t in range(0,w+1):\n",
    "      # in tasks, column 1 is duration, 2 is deadline, 3 is profit\n",
    "      tp=min(tasks[i-1][2],t)-tasks[i-1][1]# can task finish by deadline\n",
    "      if tp>=0:#yes\n",
    "        u=opt[i-1][t]\n",
    "        v=tasks[i-1][3]+opt[i-1][tp]\n",
    "        opt[i][t]=max(u,v)\n",
    "      else:#no\n",
    "        opt[i][t]=opt[i-1][t]\n",
    "  return opt\n",
    "\n",
    "def getJobs(sol,tasks):\n",
    "  i=len(opt)-1 # rows\n",
    "  j=len(opt[0])-1 # columns\n",
    "  task_list=[]\n",
    "  while i>0 and j>0:\n",
    "    task=tasks[i-1]\n",
    "    if sol[i][j]==sol[i-1][j]: # not included\n",
    "      i-=1\n",
    "    else:\n",
    "      #prepend to list\n",
    "      task_list.insert(0,task)\n",
    "      j=min(j,task[2])-task[1]\n",
    "      i-=1\n",
    "  return task_list\n",
    "\n",
    "\n",
    "opt=getOpt()\n",
    "# print the solution matrix. The value in the last row, last column is the optimal value\n",
    "print(\"Optimal values\")\n",
    "for i in range(n+1):\n",
    "  print(opt[i])\n",
    "task_list=getJobs(opt,tasks)\n",
    "print(\"Optimal solution\")\n",
    "print(task_list)"
   ]
  },
  {
   "cell_type": "code",
   "execution_count": null,
   "metadata": {},
   "outputs": [],
   "source": []
  }
 ],
 "metadata": {
  "kernelspec": {
   "display_name": "Python 3",
   "language": "python",
   "name": "python3"
  },
  "language_info": {
   "codemirror_mode": {
    "name": "ipython",
    "version": 3
   },
   "file_extension": ".py",
   "mimetype": "text/x-python",
   "name": "python",
   "nbconvert_exporter": "python",
   "pygments_lexer": "ipython3",
   "version": "3.9.11"
  },
  "orig_nbformat": 4
 },
 "nbformat": 4,
 "nbformat_minor": 2
}
