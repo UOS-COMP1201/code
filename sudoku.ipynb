{
  "nbformat": 4,
  "nbformat_minor": 0,
  "metadata": {
    "colab": {
      "provenance": [],
      "authorship_tag": "ABX9TyNQpXwZXA+0AFaHKU7Jge9O",
      "include_colab_link": true
    },
    "kernelspec": {
      "name": "python3",
      "display_name": "Python 3"
    },
    "language_info": {
      "name": "python"
    }
  },
  "cells": [
    {
      "cell_type": "markdown",
      "metadata": {
        "id": "view-in-github",
        "colab_type": "text"
      },
      "source": [
        "<a href=\"https://colab.research.google.com/gist/hikmatfarhat-ndu/81e3574634ed2bd26fa0838cb1972e6f/sudoku.ipynb\" target=\"_parent\"><img src=\"https://colab.research.google.com/assets/colab-badge.svg\" alt=\"Open In Colab\"/></a>"
      ]
    },
    {
      "cell_type": "code",
      "execution_count": 1,
      "metadata": {
        "colab": {
          "base_uri": "https://localhost:8080/"
        },
        "id": "5uGA3Gc11WIZ",
        "outputId": "27cc3d78-87ab-4edf-8826-fea74538c22e"
      },
      "outputs": [
        {
          "output_type": "stream",
          "name": "stdout",
          "text": [
            "Looking in indexes: https://pypi.org/simple, https://us-python.pkg.dev/colab-wheels/public/simple/\n",
            "Collecting z3-solver\n",
            "  Downloading z3_solver-4.12.1.0-py2.py3-none-manylinux1_x86_64.whl (56.0 MB)\n",
            "\u001b[2K     \u001b[90m━━━━━━━━━━━━━━━━━━━━━━━━━━━━━━━━━━━━━━━━\u001b[0m \u001b[32m56.0/56.0 MB\u001b[0m \u001b[31m8.3 MB/s\u001b[0m eta \u001b[36m0:00:00\u001b[0m\n",
            "\u001b[?25hInstalling collected packages: z3-solver\n",
            "Successfully installed z3-solver-4.12.1.0\n"
          ]
        }
      ],
      "source": [
        "!pip install z3-solver"
      ]
    },
    {
      "cell_type": "code",
      "source": [
        "from z3 import *"
      ],
      "metadata": {
        "id": "18fdzvDw1YJT"
      },
      "execution_count": 2,
      "outputs": []
    },
    {
      "cell_type": "code",
      "source": [
        "#9x9 matrix of integer variables\n",
        "X=[]\n",
        "for i in range(1,10):\n",
        "      tmp=[]\n",
        "      for j in range(1,10):\n",
        "            tmp.append(Int(\"x_%s_%s\" %(i,j)))\n",
        "      X.append(tmp)\n"
      ],
      "metadata": {
        "id": "KvZpRZZe1ivy"
      },
      "execution_count": 3,
      "outputs": []
    },
    {
      "cell_type": "code",
      "source": [
        "# constraints for the possible values of each cell\n",
        "# each cell can contain a value only in {1, ..., 9}\n",
        "cells_c  = [ And(1 <= X[i][j], X[i][j] <= 9)\n",
        "             for i in range(9) for j in range(9) ]\n"
      ],
      "metadata": {
        "id": "-61eAzW91pth"
      },
      "execution_count": 4,
      "outputs": []
    },
    {
      "cell_type": "code",
      "source": [
        "\n",
        "# each row contains a digit at most once\n",
        "rows_c   = [ Distinct(X[i]) for i in range(9) ]"
      ],
      "metadata": {
        "id": "uT8UtmCj1ruy"
      },
      "execution_count": 5,
      "outputs": []
    },
    {
      "cell_type": "code",
      "source": [
        "\n",
        "# each column contains a digit at most once\n",
        "cols_c   = [ Distinct([ X[i][j] for i in range(9) ])\n",
        "             for j in range(9) ]\n"
      ],
      "metadata": {
        "id": "ypR2dotF1t0h"
      },
      "execution_count": 6,
      "outputs": []
    },
    {
      "cell_type": "code",
      "source": [
        "\n",
        "# each 3x3 square contains a digit at most once\n",
        "sq_c     = [ Distinct([ X[3*i0 + i][3*j0 + j]\n",
        "                        for i in range(3) for j in range(3) ])\n",
        "             for i0 in range(3) for j0 in range(3) ]\n"
      ],
      "metadata": {
        "id": "4GYLWifB1vnh"
      },
      "execution_count": 7,
      "outputs": []
    },
    {
      "cell_type": "code",
      "source": [
        "\n",
        "sudoku_c = cells_c + rows_c + cols_c + sq_c"
      ],
      "metadata": {
        "id": "ybxQu-7I1yCx"
      },
      "execution_count": 8,
      "outputs": []
    },
    {
      "cell_type": "code",
      "source": [
        "instance = ((0,0,0,0,9,4,0,3,0),\n",
        "            (0,0,0,5,1,0,0,0,7),\n",
        "            (0,8,9,0,0,0,0,4,0),\n",
        "            (0,0,0,0,0,0,2,0,8),\n",
        "            (0,6,0,2,0,1,0,5,0),\n",
        "            (1,0,2,0,0,0,0,0,0),\n",
        "            (0,7,0,0,0,0,5,2,0),\n",
        "            (9,0,0,0,6,5,0,0,0),\n",
        "            (0,4,0,9,7,0,0,0,0))"
      ],
      "metadata": {
        "id": "h5RjSsjn10Rh"
      },
      "execution_count": 9,
      "outputs": []
    },
    {
      "cell_type": "code",
      "source": [
        "# constraints related to the input\n",
        "# We can only change the cells that are empty (labelled 0 here)\n",
        "instance_c = [ If(instance[i][j] == 0,\n",
        "                  True,\n",
        "                  X[i][j] == instance[i][j])\n",
        "               for i in range(9) for j in range(9) ]\n"
      ],
      "metadata": {
        "id": "r9SFDGo_13MC"
      },
      "execution_count": 10,
      "outputs": []
    },
    {
      "cell_type": "code",
      "source": [
        "\n",
        "s = Solver()\n",
        "s.add(sudoku_c + instance_c)\n",
        "if s.check() == sat:\n",
        "    m = s.model()\n",
        "    r = [ [ m.evaluate(X[i][j]) for j in range(9) ]\n",
        "          for i in range(9) ]\n",
        "    print_matrix(r)\n",
        "else:\n",
        "    print (\"failed to solve\")"
      ],
      "metadata": {
        "colab": {
          "base_uri": "https://localhost:8080/"
        },
        "id": "QbszKHCr14my",
        "outputId": "05c353ed-59c3-438b-deb5-2e5d2e66c8cd"
      },
      "execution_count": 11,
      "outputs": [
        {
          "output_type": "stream",
          "name": "stdout",
          "text": [
            "[[7, 1, 5, 8, 9, 4, 6, 3, 2],\n",
            " [2, 3, 4, 5, 1, 6, 8, 9, 7],\n",
            " [6, 8, 9, 7, 2, 3, 1, 4, 5],\n",
            " [4, 9, 3, 6, 5, 7, 2, 1, 8],\n",
            " [8, 6, 7, 2, 3, 1, 9, 5, 4],\n",
            " [1, 5, 2, 4, 8, 9, 7, 6, 3],\n",
            " [3, 7, 6, 1, 4, 8, 5, 2, 9],\n",
            " [9, 2, 8, 3, 6, 5, 4, 7, 1],\n",
            " [5, 4, 1, 9, 7, 2, 3, 8, 6]]\n"
          ]
        }
      ]
    },
    {
      "cell_type": "code",
      "source": [],
      "metadata": {
        "id": "RBzrUXa63w6f"
      },
      "execution_count": null,
      "outputs": []
    }
  ]
}